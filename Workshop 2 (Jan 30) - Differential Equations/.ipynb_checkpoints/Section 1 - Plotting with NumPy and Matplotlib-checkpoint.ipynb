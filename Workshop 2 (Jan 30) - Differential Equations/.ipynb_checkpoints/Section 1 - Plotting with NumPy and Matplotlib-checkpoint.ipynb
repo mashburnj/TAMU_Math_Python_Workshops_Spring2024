{
 "cells": [
  {
   "cell_type": "markdown",
   "id": "5bf00ae8",
   "metadata": {},
   "source": [
    "# Section 1 - Plotting with NumPy and Matplotlib\n",
    "\n",
    "Objectives:\n",
    "- NumPy (numerical Python) arrays and operations on them\n",
    "- Matplotlib package (plotting)\n",
    "- Direction Fields\n",
    "\n",
    "Start by running the import statement below (this must be done every time you start up Jupyter Notebook or Google Colab). Notice that we are loading the NumPy package, along with the main Matplotlib package and its PyPlot subbranch:"
   ]
  },
  {
   "cell_type": "code",
   "execution_count": null,
   "id": "e1fee498",
   "metadata": {},
   "outputs": [],
   "source": [
    "import numpy as np\n",
    "import matplotlib as mpl\n",
    "import matplotlib.pyplot as plt"
   ]
  },
  {
   "cell_type": "markdown",
   "id": "7592c960",
   "metadata": {},
   "source": [
    "## 1.1 NumPy (numerical Python)\n",
    "\n",
    "NumPy provides the **NumPy array** data type, which is like a Python list or array, but with some key differences:\n",
    "\n",
    "- Every entry must have the same data type\n",
    "- There are \"vectorized\" arithmetic operations built-in, acting in an entry-wise manner\n",
    "- Retrieving entries from such an array is much faster than retrieving from Python's lists\n",
    "\n",
    "**In this workshop, our goal is to create NumPy arrays containing coordinates for Matplotlib to plot later.** However, there are MANY more uses for NumPy that we won't have time to cover today.\n",
    "\n",
    "### How to create a NumPy array?\n",
    "\n",
    "#### 1) Entry by entry\n",
    "\n",
    "Recall that you can create Python lists using the **list()** command. NumPy has a similar command for its arrays:"
   ]
  },
  {
   "cell_type": "code",
   "execution_count": null,
   "id": "4809d3f8",
   "metadata": {},
   "outputs": [],
   "source": [
    "x = np.array([0, 1, 2, 3])\n",
    "x"
   ]
  },
  {
   "cell_type": "markdown",
   "id": "8ba75159",
   "metadata": {},
   "source": [
    "#### 2) Ranges of values with a specified increment\n",
    "\n",
    "NumPy has the **np.arange()** command that works similarly to the **range()** command built into Python. The syntax is **np.arange(start, end, increment)**. Here's an example:"
   ]
  },
  {
   "cell_type": "code",
   "execution_count": null,
   "id": "a7df83da",
   "metadata": {},
   "outputs": [],
   "source": [
    "x = np.arange(0, 10, 0.5)\n",
    "x"
   ]
  },
  {
   "cell_type": "markdown",
   "id": "0f7e5996",
   "metadata": {},
   "source": [
    "Note that as usual, the right boundary value is excluded, so if we needed to include 10, we could put np.arange(0, 10.1, 0.5), so 10 would be included."
   ]
  },
  {
   "cell_type": "markdown",
   "id": "8c63b947",
   "metadata": {},
   "source": [
    "#### 3) Create an array filled with only one value\n",
    "\n",
    "NumPy has the **np.full()** command which takes requested array dimensions and a value, then creates an array of those dimensions whose entries are all that value:"
   ]
  },
  {
   "cell_type": "code",
   "execution_count": null,
   "id": "f84330a2",
   "metadata": {},
   "outputs": [],
   "source": [
    "twos = np.full((2,3), 2)\n",
    "twos"
   ]
  },
  {
   "cell_type": "markdown",
   "id": "f3e04ed0",
   "metadata": {},
   "source": [
    "1 and 0 are the most common values used when building such an array, so NumPy has shortcut commands for both:"
   ]
  },
  {
   "cell_type": "code",
   "execution_count": null,
   "id": "b6ed37ce",
   "metadata": {},
   "outputs": [],
   "source": [
    "z = np.zeros((3,2))\n",
    "o = np.ones((2,4))\n",
    "print(z)\n",
    "print(o)"
   ]
  },
  {
   "cell_type": "markdown",
   "id": "bae88f55",
   "metadata": {},
   "source": [
    "### Vectorized Arithmetic\n",
    "\n",
    "NumPy arrays have many entry-wise versions of common arithmetic operations built-in, such as:\n",
    "\n",
    "- addition (+), subtraction (*)\n",
    "- multiplication (*), power (\\**)\n",
    "- division (/), floor division (//)\n",
    "- Boolean operations (and, or, xor, not)\n",
    "- Almost any binary operation built into Python\n",
    "- Many others\n",
    "\n",
    "This lets us easily create a range from a domain for a function we wish to plot, as seen in this example for $f(x) = x^2 + 3$:"
   ]
  },
  {
   "cell_type": "code",
   "execution_count": null,
   "id": "f7f11229",
   "metadata": {},
   "outputs": [],
   "source": [
    "# We start by creating our domain array. We wish the x-axis to run from -10 to 10.\n",
    "# The increment is 0.1, but you can make it smaller for a smoother-looking plot.\n",
    "x = np.arange(-10, 10, 0.1)\n",
    "\n",
    "# Next, we compute the range values using vectorized arithmetic.\n",
    "y = x**2 + 3\n",
    "\n",
    "print(x[0], y[0])"
   ]
  },
  {
   "cell_type": "markdown",
   "id": "56be820b",
   "metadata": {},
   "source": [
    "Notice that adding a single number data type (int, float) to a NumPy array was interpreted as adding that number to each entry of the array.\n",
    "\n",
    "#### What about sqrt, sin, cos, etc.?\n",
    "\n",
    "NumPy has its own versions of these, all vectorized to apply to each entry of a given NumPy array:\n",
    "\n",
    "- np.sqrt(), np.cbrt()\n",
    "- np.sin(), np.cos(), np.tan(), np.arcsin() (note that SymPy uses \"asin\" while NumPy uses \"arcsin\")\n",
    "- np.ceil(), np.floor()\n",
    "- np.exp()\n",
    "- np.log(), np.log10(), np.log2()\n",
    "- Many more. See https://numpy.org/doc/stable/reference/routines.math.html for a more complete list.\n",
    "\n",
    "**Your turn:** For the given domain below, create an array for the range values of the function $f(x) = \\sqrt{x} + 7x$"
   ]
  },
  {
   "cell_type": "code",
   "execution_count": null,
   "id": "fcfaa345",
   "metadata": {},
   "outputs": [],
   "source": [
    "x = np.arange(0, 20, 0.1)\n",
    "\n"
   ]
  },
  {
   "cell_type": "markdown",
   "id": "4837c066",
   "metadata": {},
   "source": [
    "## 1.2 Matplotlib\n",
    "\n",
    "Matplotlib is by far the most popular plotting package for Python.\n",
    "\n",
    "**Matplotlib vs. SymPy plots?** SymPy's plotting feature is a *fork* of Matplotlib, a modified version. You don't need to import Matplotlib itself if you are only plotting SymPy expressions. For any other purpose, you must import MPL as we've done above.\n",
    "\n",
    "Plotting Overview:\n",
    "- If you liked MATLAB's style of plotting, you'll like this.\n",
    "- *State-based*: commands are directives to change the state of the *most recently created plot*\n",
    "\n",
    "To plot a function discretized into (x,y)-coordinate pairs, use the **plt.plot** command:\n",
    "\n",
    "**plt.plot(xcoords, ycoords, optional_additional_arguments)**\n",
    "\n",
    "There are MANY other types of plots MPL can do! For a complete list, see https://matplotlib.org/stable/plot_types/index.html\n",
    "\n",
    "In fact, I highly recommend the documentation for customization options as well (axis labels, colors, etc.), since this workshop will barely scratch the surface: https://matplotlib.org/stable/tutorials/index.html\n",
    "\n",
    "(If you use the Matplotlib documentation, be aware that their commands are written as **pyplot.name** whereas we imported matplotlib.pyplot **as plt**, so we type ours as **plt.name** instead.\n",
    "\n",
    "Here is an example plot, revisiting the example from earlier:"
   ]
  },
  {
   "cell_type": "code",
   "execution_count": null,
   "id": "99c66bea",
   "metadata": {},
   "outputs": [],
   "source": [
    "x = np.arange(-10, 10, 0.1)\n",
    "y = x**2 + 3\n",
    "\n",
    "plt.plot(x, y, color = 'red', linewidth = 2.5)"
   ]
  },
  {
   "cell_type": "markdown",
   "id": "26d10ad3",
   "metadata": {},
   "source": [
    "Remember, MPL is **state-based**, so given commands will be applied to the most recently edited figure, unless you are in a new cell or you tell MPL otherwise."
   ]
  },
  {
   "cell_type": "code",
   "execution_count": null,
   "id": "52f3d8a5",
   "metadata": {},
   "outputs": [],
   "source": [
    "# Here, we plot the function, then we plot it again with the coordinates flipped.\n",
    "plt.plot(x,y)\n",
    "plt.plot(y,x)\n",
    "\n",
    "# Here, we tell MPL to start a new figure, then we plot the function again.\n",
    "plt.figure()\n",
    "plt.plot(x, y)"
   ]
  },
  {
   "cell_type": "markdown",
   "id": "2711dfb1",
   "metadata": {},
   "source": [
    "You can also plot multiple functions on the same plot using the syntax:\n",
    "\n",
    "**plt.plot(x1coords, y1coords, optional_args1, x2coords, y2coords, optional_args2, ..., xNcoords, yNcoords, optional_argsN)**"
   ]
  },
  {
   "cell_type": "code",
   "execution_count": null,
   "id": "079bfd04",
   "metadata": {},
   "outputs": [],
   "source": [
    "z = x**2 + 16\n",
    "a = x**2 + 32\n",
    "\n",
    "plt.plot(x, y, x, z, x, a)"
   ]
  },
  {
   "cell_type": "markdown",
   "id": "b375ce61",
   "metadata": {},
   "source": [
    "Or we could just make plt.plot commands one at a time:"
   ]
  },
  {
   "cell_type": "code",
   "execution_count": null,
   "id": "9710b992",
   "metadata": {},
   "outputs": [],
   "source": [
    "plt.plot(x, y)\n",
    "plt.plot(x, z)\n",
    "plt.plot(x, a)"
   ]
  },
  {
   "cell_type": "markdown",
   "id": "08599c13",
   "metadata": {},
   "source": [
    "**Your Turn:** Plot these two on the same graph:\n",
    "\n",
    "- The function $f(x) = \\sqrt{x}$\n",
    "- The line tangent to it at $x = 1$\n",
    "\n",
    "**Try this at home:** Create a simple demonstration of the limit definition of the derivative by including, in addition to the above:\n",
    "- Multiple secant lines that cross the function at $x = 1$"
   ]
  },
  {
   "cell_type": "code",
   "execution_count": null,
   "id": "27682ea3",
   "metadata": {},
   "outputs": [],
   "source": [
    "x = np.arange(-10, 10, 0.1)\n",
    "\n"
   ]
  },
  {
   "cell_type": "markdown",
   "id": "dd77e4bb",
   "metadata": {},
   "source": [
    "## 1.3 Application: Direction Fields\n",
    "\n",
    "### Example: For $y' = \\frac{1}{e^t - 2y}$, plot a direction field.\n",
    "\n",
    "The general process on paper is:\n",
    "\n",
    "- Determine how many rows/columns of arrows we want to draw\n",
    "- Compute the slopes for each arrow\n",
    "- Determine how exactly we want to draw the arrow\n",
    "- Draw the arrow on the graph\n",
    "- Repeat the last 3 steps for each arrow\n",
    "\n",
    "Using Python, the first step looks like this:\n",
    "\n",
    "- Build a mesh grid using NumPy (the starting points for all arrows we will draw)\n",
    "- This is accomplished using **np.meshgrid**.\n",
    "- The left-hand side lists TWO variables: the first is all $t$-coordinates, the second all $y$-coordinates.\n",
    "- The syntax in general is **np.meshgrid(xcoords,ycoords)**. Basically the Cartesian product of the two given arrays."
   ]
  },
  {
   "cell_type": "code",
   "execution_count": null,
   "id": "e535d3d3",
   "metadata": {},
   "outputs": [],
   "source": [
    "T, Y = np.meshgrid(np.arange(-2.1, 1.9, .2), np.arange(-2.1, 1.9, .2))"
   ]
  },
  {
   "cell_type": "markdown",
   "id": "36213d60",
   "metadata": {},
   "source": [
    "\n"
   ]
  },
  {
   "cell_type": "markdown",
   "id": "d537d166",
   "metadata": {},
   "source": [
    "The next step is to calculate the slopes for each point in our mesh. We'll use NumPy's **vectorized arithmetic**. This way, you can accomplish this step in only one line:"
   ]
  },
  {
   "cell_type": "code",
   "execution_count": null,
   "id": "c6b2c182",
   "metadata": {},
   "outputs": [],
   "source": [
    "dYdT = 1 / (np.exp(T) - 2*Y)"
   ]
  },
  {
   "cell_type": "markdown",
   "id": "6dbbbb0a",
   "metadata": {},
   "source": [
    "The next step is the $x$ and $y$ (vector) components of each arrow.\n",
    "\n",
    "- $x = 1$, $y = $ slope, but...\n",
    "- We want the arrows to be normalized, so we're dividing each component by the resulting arrow's length.\n",
    "- Also, the Matplotlib documentation for direction fields uses U and V, so that's what we'll use."
   ]
  },
  {
   "cell_type": "code",
   "execution_count": null,
   "id": "21f9b140",
   "metadata": {},
   "outputs": [],
   "source": [
    "U = 1 / np.sqrt( 1 + dYdT**2)                 # This is the x-component\n",
    "V = dYdT / np.sqrt( 1 + dYdT**2)              # This is the y-component"
   ]
  },
  {
   "cell_type": "markdown",
   "id": "99a35673",
   "metadata": {},
   "source": [
    "Now all that's left is to make our plot! Matplotlib has the **plt.quiver** command for this. The syntax is\n",
    "\n",
    "**plt.quiver(xcoords, ycoords, xdirection, ydirection)**"
   ]
  },
  {
   "cell_type": "code",
   "execution_count": null,
   "id": "18b98e5c",
   "metadata": {},
   "outputs": [],
   "source": [
    "plt.quiver(T, Y, U, V)\n",
    "plt.title('Direction Field for $y\\' = \\\\frac{1}{e^t - 2y}$')"
   ]
  },
  {
   "cell_type": "markdown",
   "id": "4912eaea",
   "metadata": {},
   "source": [
    "Side note about the title: Yes, LaTeX (via MathJax) is supported in titles! This requires some special care though, because:\n",
    "\n",
    "- Notice that I entered **y'** as **y\\\\'**. In most programming languages, the backslash followed by a single character is called an **escape sequence**. Since a single quotation mark indicates the end of a string of text in Python, the escape sequence **\\\\'** means the actual character **'**.\n",
    "- Same goes for \\\\\\\\: it means the actual character, since on its own, it indicates an escape sequence.\n",
    "- Other useful escape sequences for strings of text: **\\n** (newline character), **\\t** (tabspace)\n",
    "\n",
    "Here's the same code we just did, but put all together for your convenience:"
   ]
  },
  {
   "cell_type": "code",
   "execution_count": null,
   "id": "4e39ccbc",
   "metadata": {},
   "outputs": [],
   "source": [
    "T, Y = np.meshgrid(np.arange(-2.1, 1.9, .2), np.arange(-2.1, 1.9, .2))\n",
    "\n",
    "dYdT = 1 / (np.exp(T) - 2*Y)\n",
    "\n",
    "U = 1 / np.sqrt( 1 + dYdT**2)\n",
    "V = dYdT / np.sqrt( 1 + dYdT**2)\n",
    "\n",
    "plt.quiver(T, Y, U, V)\n",
    "plt.title('Direction Field for $y\\' = \\\\frac{1}{e^t - 2y}$')"
   ]
  },
  {
   "cell_type": "markdown",
   "id": "cffae8ce",
   "metadata": {},
   "source": [
    "**Try this at home:** Construct a direction field for an ODE $y' = f(t,y)$ of your choosing (perhaps one that you're assigning to your students)."
   ]
  },
  {
   "cell_type": "code",
   "execution_count": null,
   "id": "8df7bee1",
   "metadata": {},
   "outputs": [],
   "source": [
    "\n",
    "\n"
   ]
  },
  {
   "cell_type": "markdown",
   "id": "9aa3e087",
   "metadata": {},
   "source": [
    "For more information, see the following documentation pages:\n",
    "\n",
    "https://numpy.org/doc/stable/reference/generated/numpy.meshgrid.html\n",
    "\n",
    "https://matplotlib.org/stable/api/_as_gen/matplotlib.pyplot.quiver.html (This lists MANY ways you can customize your direction field to make it look nicer!)"
   ]
  },
  {
   "cell_type": "markdown",
   "id": "f2df73e7",
   "metadata": {},
   "source": [
    "## 1.4 Troubleshooting\n",
    "\n",
    "Remember: sometimes the simplest explanation for an issue is the best. Look for typos (especially misplaced parenthesis or brackets), commands not being called properly, etc.\n",
    "\n",
    "1) **It's common for students to mix up NumPy, SymPy, Math package versions of sqrt, sin, cos, etc.**\n",
    "\n",
    "- NumPy and Math package functions can't handle SymPy objects.\n",
    "- Math package functions can't handle NumPy arrays, and neither can SymPy functions\n",
    "\n",
    "You'll typically get an \"unexpected\" data type error (phrasing of the error message varies between packages).\n",
    "\n",
    "2) **Mismatched dimensions in plot.**\n",
    "\n",
    "Matplotlib expects the $x$ and $y$ arrays to have the same dimensions. For plt.quiver, **all four** arrays given as arguments must have the same length.\n",
    "\n",
    "3) **plt.plot does not work with SymPy functions.**\n",
    "\n",
    "If you want to plot a SymPy expression, use **sp.plot**. SymPy has a **modified** version of Matplotlib baked in, so you don't even need to import MPL if you only plan to work with SymPy objects.\n",
    "\n",
    "4) **\"My graph looks weird.\" - students**\n",
    "\n",
    "- Most likely a calculation error somewhere, based entirely on my experience as a TA for Python labs (very biased sample- take with a grain of salt).\n",
    "- The next place I'd look is their plotting commands (plt.plot, plt.quiver, plt.axes, etc.) to see if things were input correctly or if the optional settings weren't set to something strange.\n",
    "- A third possibility (uncommon) is they are drawing multiple things on the same graph that were meant to be plotted separately. For example, a plot over (-1,1) combined with a plot over (98, 102) will give a single plot over (-1, 102) with both graphs looking tiny."
   ]
  },
  {
   "cell_type": "code",
   "execution_count": null,
   "id": "461a8f5b",
   "metadata": {},
   "outputs": [],
   "source": []
  }
 ],
 "metadata": {
  "kernelspec": {
   "display_name": "Python 3 (ipykernel)",
   "language": "python",
   "name": "python3"
  },
  "language_info": {
   "codemirror_mode": {
    "name": "ipython",
    "version": 3
   },
   "file_extension": ".py",
   "mimetype": "text/x-python",
   "name": "python",
   "nbconvert_exporter": "python",
   "pygments_lexer": "ipython3",
   "version": "3.9.18"
  }
 },
 "nbformat": 4,
 "nbformat_minor": 5
}
