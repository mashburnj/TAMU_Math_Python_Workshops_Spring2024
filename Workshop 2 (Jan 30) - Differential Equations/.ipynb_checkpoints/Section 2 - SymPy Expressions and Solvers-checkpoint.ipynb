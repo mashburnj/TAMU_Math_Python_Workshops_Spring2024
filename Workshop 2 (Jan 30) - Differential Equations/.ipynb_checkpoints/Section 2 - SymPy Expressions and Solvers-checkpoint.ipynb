{
 "cells": [
  {
   "cell_type": "markdown",
   "id": "5bf00ae8",
   "metadata": {},
   "source": [
    "# Section 2 - SymPy Expressions and Solvers\n",
    "\n",
    "Objectives:\n",
    "- Quick refresher on SymPy basics\n",
    "- Equation and Function data types\n",
    "- Differential equation solvers\n",
    "\n",
    "Start by running the import statement below (this must be done every time you start up Jupyter Notebook or Google Colab)."
   ]
  },
  {
   "cell_type": "code",
   "execution_count": 2,
   "id": "e1fee498",
   "metadata": {},
   "outputs": [],
   "source": [
    "import sympy as sp"
   ]
  },
  {
   "cell_type": "markdown",
   "id": "3f729534",
   "metadata": {},
   "source": [
    "## 2.1 SymPy Refresher\n",
    "\n",
    "SymPy (symbolic Python) is a package containing the **symbol** and **symbolic expression** data types, as well as many functions used to manipulate them.\n",
    "\n",
    "In SymPy, your starting point is (nearly) always to create a symbolic variable:"
   ]
  },
  {
   "cell_type": "code",
   "execution_count": 3,
   "id": "e0d7e78d",
   "metadata": {},
   "outputs": [
    {
     "data": {
      "text/latex": [
       "$\\displaystyle \\theta$"
      ],
      "text/plain": [
       "theta"
      ]
     },
     "execution_count": 3,
     "metadata": {},
     "output_type": "execute_result"
    }
   ],
   "source": [
    "x = sp.symbols('x')\n",
    "y, z = sp.symbols('y z')                 # For multiple variables. Notice the space inside the string instead of a comma\n",
    "\n",
    "iamasymbol = sp.symbols('iamasymbol')    # You can use a whole word- it just isn't going to look good.\n",
    "\n",
    "theta = sp.symbols('theta')\n",
    "theta                                    # With SymPy's LaTeX printing mode, the actual Greek letters get displayed!"
   ]
  },
  {
   "cell_type": "markdown",
   "id": "bc93bc4a",
   "metadata": {},
   "source": [
    "Often, you'll want to restrict the domain for a variable- *by default, symbols are assumed to be complex variables*, so any time you use a solver, it will consider complex solutions unless you tell it otherwise. Here are some ways you can do so:"
   ]
  },
  {
   "cell_type": "code",
   "execution_count": 4,
   "id": "9eff2674",
   "metadata": {},
   "outputs": [],
   "source": [
    "x = sp.symbols('x', real = True) # x in R\n",
    "x = sp.symbols('x', positive = True) # x in R+\n",
    "x = sp.symbols('x', integer = True) # x in Z\n",
    "x = sp.symbols('x', integer = True, positive = True) # x in N"
   ]
  },
  {
   "cell_type": "markdown",
   "id": "0bd40b10",
   "metadata": {},
   "source": [
    "To see all assumptions about a symbolic variable, print the **assumptions0** attribute of the variable:"
   ]
  },
  {
   "cell_type": "code",
   "execution_count": 5,
   "id": "9e15fa46",
   "metadata": {},
   "outputs": [
    {
     "name": "stdout",
     "output_type": "stream",
     "text": [
      "{'integer': True, 'extended_real': True, 'noninteger': False, 'algebraic': True, 'finite': True, 'rational': True, 'complex': True, 'transcendental': False, 'irrational': False, 'real': True, 'infinite': False, 'hermitian': True, 'commutative': True, 'imaginary': False, 'positive': True, 'zero': False, 'extended_nonpositive': False, 'negative': False, 'extended_nonnegative': True, 'nonzero': True, 'extended_negative': False, 'extended_positive': True, 'nonnegative': True, 'extended_nonzero': True, 'nonpositive': False}\n"
     ]
    }
   ],
   "source": [
    "print(x.assumptions0)"
   ]
  },
  {
   "cell_type": "markdown",
   "id": "04ca03a8",
   "metadata": {},
   "source": [
    "Using symbols, you can define a **symbolic expression**. Basic arithmetic for symbols is the same as for numbers, just tweaked behind the scenes to handle these new data types:"
   ]
  },
  {
   "cell_type": "code",
   "execution_count": 6,
   "id": "d729787a",
   "metadata": {},
   "outputs": [
    {
     "data": {
      "text/latex": [
       "$\\displaystyle 3 x y + x^{y} - \\left(x \\bmod y\\right) + \\left\\lfloor{\\frac{x}{y}}\\right\\rfloor$"
      ],
      "text/plain": [
       "3*x*y + x**y - Mod(x, y) + floor(x/y)"
      ]
     },
     "execution_count": 6,
     "metadata": {},
     "output_type": "execute_result"
    }
   ],
   "source": [
    "f = 3 * x * y + x**y - x % y + x // y\n",
    "f"
   ]
  },
  {
   "cell_type": "markdown",
   "id": "3a938670",
   "metadata": {},
   "source": [
    "**Remember, the Math and NumPy package versions of exp, log, sin, etc. will NOT work with symbolic variables and expressions!**\n",
    "\n",
    "Use the SymPy versions instead: **sp.exp(x), sp.log(x,base), sp.sin(x), sp.Abs(x), sp.sqrt(x)**, etc.\n",
    "\n",
    "For a much more comprehensive list, see https://docs.sympy.org/latest/modules/functions/elementary.html\n",
    "\n",
    "Moreover, SymPy comes with several constants built-in:\n",
    "- **sp.pi**\n",
    "- **sp.E** (yes, capitalized)\n",
    "- **sp.I** (also capitalized)"
   ]
  },
  {
   "cell_type": "code",
   "execution_count": null,
   "id": "2a900db6",
   "metadata": {},
   "outputs": [],
   "source": []
  },
  {
   "cell_type": "code",
   "execution_count": null,
   "id": "8bb5de6a",
   "metadata": {},
   "outputs": [],
   "source": []
  },
  {
   "cell_type": "code",
   "execution_count": null,
   "id": "93ac16be",
   "metadata": {},
   "outputs": [],
   "source": []
  },
  {
   "cell_type": "markdown",
   "id": "7286243f",
   "metadata": {},
   "source": [
    "## 2.2 The Function and Equality (Equation) Data Types\n",
    "\n",
    "### Functions\n",
    "\n",
    "Functions (with a capital \"F\") in SymPy are symbolic representations of a function $f(x)$. They are defined similarly to symbols:"
   ]
  },
  {
   "cell_type": "code",
   "execution_count": null,
   "id": "26553ee5",
   "metadata": {},
   "outputs": [],
   "source": [
    "x, y = sp.symbols('x y')\n",
    "f = sp.Function('f')(x) # f is a function of x\n",
    "g = sp.Function('g')(x,y) # g is a function of x and y\n",
    "g"
   ]
  },
  {
   "cell_type": "markdown",
   "id": "d680cdec",
   "metadata": {},
   "source": [
    "Note: At some point, you were able to define a Function using sp.symbols with the assumption \"cls=Function\", but they seem to have removed that method.\n",
    "\n",
    "For differential equations, you also want representations of the derivative(s) of an unknown $f$:"
   ]
  },
  {
   "cell_type": "code",
   "execution_count": null,
   "id": "c50c4473",
   "metadata": {},
   "outputs": [],
   "source": [
    "fp = sp.Derivative(f,x)\n",
    "fpp = sp.Derivative(f,x,2) # Second derivative. Replace 2 with n to get nth derivative\n",
    "dgdx = sp.Derivative(g,x)\n",
    "d2gdxdy = sp.Derivative(g,x,y) # Second partial derivative w.r.t. x and y\n",
    "d2gdxdy"
   ]
  },
  {
   "cell_type": "markdown",
   "id": "b7e19c5c",
   "metadata": {},
   "source": [
    "For integral equations, you might want this:"
   ]
  },
  {
   "cell_type": "code",
   "execution_count": null,
   "id": "49ef95e8",
   "metadata": {},
   "outputs": [],
   "source": [
    "F = sp.Integral(f,x)\n",
    "F"
   ]
  },
  {
   "cell_type": "markdown",
   "id": "9ac1e53e",
   "metadata": {},
   "source": [
    "Note: Function, Derivative, and Integral are capitalized. This is a way to remember these create and manipulate symbolic stand-ins for functions, and are *not* operations to be applied to expressions.\n",
    "\n",
    "### Equalities\n",
    "\n",
    "Next, we have the general data type of **relations**. Of primary interest to us today is **Equalities** (what SymPy calls their equation data type). Use **sp.Eq(LHS,RHS)** to create one."
   ]
  },
  {
   "cell_type": "code",
   "execution_count": null,
   "id": "92f70a92",
   "metadata": {},
   "outputs": [],
   "source": [
    "LHS =  3*x**2 - 12*x\n",
    "RHS = -9\n",
    "simpleEq = sp.Eq(LHS,RHS)\n",
    "simpleEq"
   ]
  },
  {
   "cell_type": "code",
   "execution_count": null,
   "id": "42e3349d",
   "metadata": {},
   "outputs": [],
   "source": [
    "LHS = fp\n",
    "RHS = f\n",
    "simpleODE = sp.Eq(LHS,RHS)\n",
    "simpleODE"
   ]
  },
  {
   "cell_type": "markdown",
   "id": "91beff88",
   "metadata": {},
   "source": [
    "You can't do arithmetical operations to both sides like you could by hand, but **simplify** and other algebraic commands will work on Equalities:"
   ]
  },
  {
   "cell_type": "code",
   "execution_count": null,
   "id": "f575b9f4",
   "metadata": {},
   "outputs": [],
   "source": [
    "simpleEq.simplify() # or you could put sp.simplify(simpleEq)"
   ]
  },
  {
   "cell_type": "markdown",
   "id": "e1653c88",
   "metadata": {},
   "source": [
    "**Your turn**: Write code that assembles the ODE $2xf''(x) = f(x)$ as a SymPy Equality."
   ]
  },
  {
   "cell_type": "code",
   "execution_count": null,
   "id": "0308b0e7",
   "metadata": {},
   "outputs": [],
   "source": [
    "x = sp.symbols('x', real = True)\n",
    "\n"
   ]
  },
  {
   "cell_type": "markdown",
   "id": "6dbbbb0a",
   "metadata": {},
   "source": [
    "## 2.3 (Ordinary) Differential Equations Solver\n",
    "\n",
    "SymPy has many solvers, depending on the type of equation.\n",
    "\n",
    "The syntax for *most* solvers is **sp.solvername(expression, whattosolvefor)**, where the given expression is set equal to 0.\n",
    "\n",
    "You can also input an Equality: **sp.solvername(equality, whattosolvefor)**.\n",
    "\n",
    "**Important:** If your variables are not meant to be complex, you should include those assumptions when defining your variables. This gives the solvers more information to help reach the solution(s) faster.\n",
    "\n",
    "For more information, see https://docs.sympy.org/latest/modules/solvers/solvers.html\n",
    "\n",
    "For other types of solvers, see https://docs.sympy.org/latest/modules/solvers/index.html\n",
    "\n",
    "### sp.dsolve()\n",
    "\n",
    "SymPy's ODE solver. As usual, the input can be an expression to be set equal to 0 or an Equality."
   ]
  },
  {
   "cell_type": "code",
   "execution_count": 14,
   "id": "21f9b140",
   "metadata": {},
   "outputs": [
    {
     "data": {
      "text/latex": [
       "$\\displaystyle \\frac{d}{d x} f{\\left(x \\right)} = f{\\left(x \\right)}$"
      ],
      "text/plain": [
       "Eq(Derivative(f(x), x), f(x))"
      ]
     },
     "execution_count": 14,
     "metadata": {},
     "output_type": "execute_result"
    }
   ],
   "source": [
    "x, y = sp.symbols('x y')\n",
    "f = sp.Function('f')(x) # f is a function of x\n",
    "fp = sp.Derivative(f,x)\n",
    "LHS = fp\n",
    "RHS = f\n",
    "simpleODE = sp.Eq(LHS,RHS)\n",
    "simpleODE"
   ]
  },
  {
   "cell_type": "code",
   "execution_count": 15,
   "id": "406ad703",
   "metadata": {},
   "outputs": [
    {
     "data": {
      "text/latex": [
       "$\\displaystyle f{\\left(x \\right)} = C_{1} e^{x}$"
      ],
      "text/plain": [
       "Eq(f(x), C1*exp(x))"
      ]
     },
     "execution_count": 15,
     "metadata": {},
     "output_type": "execute_result"
    }
   ],
   "source": [
    "sp.dsolve(simpleODE,f)"
   ]
  },
  {
   "cell_type": "markdown",
   "id": "99a35673",
   "metadata": {},
   "source": [
    "Note that it gave us the most general form, with arbitrary constant $C_1$. Suppose we have initial or boundary conditions for our DE. For example, in the above, let's say $f(1) = e^2$. Then we would set the **ics** variable inside the dsolve command to hold our conditions like so:"
   ]
  },
  {
   "cell_type": "code",
   "execution_count": 18,
   "id": "18b98e5c",
   "metadata": {},
   "outputs": [
    {
     "data": {
      "text/latex": [
       "$\\displaystyle f{\\left(x \\right)} = e e^{x}$"
      ],
      "text/plain": [
       "Eq(f(x), E*exp(x))"
      ]
     },
     "execution_count": 18,
     "metadata": {},
     "output_type": "execute_result"
    }
   ],
   "source": [
    "sp.dsolve(simpleODE,f, ics = {f.subs(x,1):sp.E**2})"
   ]
  },
  {
   "cell_type": "markdown",
   "id": "4912eaea",
   "metadata": {},
   "source": [
    "For more than one condition, separate them by commas inside the {}.\n",
    "\n",
    "It can also solve a system of ODEs. For more information, see https://docs.sympy.org/latest/modules/solvers/ode.html\n",
    "\n",
    "There is also **sp.pdsolve()** for PDEs:"
   ]
  },
  {
   "cell_type": "code",
   "execution_count": 26,
   "id": "4e39ccbc",
   "metadata": {},
   "outputs": [
    {
     "data": {
      "text/latex": [
       "$\\displaystyle \\frac{\\partial}{\\partial t} f{\\left(x,t \\right)} = \\frac{\\partial}{\\partial x} f{\\left(x,t \\right)}$"
      ],
      "text/plain": [
       "Eq(Derivative(f(x, t), t), Derivative(f(x, t), x))"
      ]
     },
     "execution_count": 26,
     "metadata": {},
     "output_type": "execute_result"
    }
   ],
   "source": [
    "x, t = sp.symbols('x t', real = True)\n",
    "k = sp.symbols('k', positive = True)\n",
    "f = sp.Function('f') # This line and the next demonstrate another means of defining a Function and its input variables.\n",
    "u = f(x, t)\n",
    "ux = u.diff(x)\n",
    "ut = u.diff(t)\n",
    "eq = sp.Eq(ut, ux)\n",
    "eq"
   ]
  },
  {
   "cell_type": "code",
   "execution_count": 28,
   "id": "d5805cea",
   "metadata": {},
   "outputs": [
    {
     "data": {
      "text/latex": [
       "$\\displaystyle f{\\left(x,t \\right)} = F{\\left(t + x \\right)}$"
      ],
      "text/plain": [
       "Eq(f(x, t), F(t + x))"
      ]
     },
     "execution_count": 28,
     "metadata": {},
     "output_type": "execute_result"
    }
   ],
   "source": [
    "sp.pdsolve(eq)"
   ]
  },
  {
   "cell_type": "markdown",
   "id": "ce276382",
   "metadata": {},
   "source": [
    "To solve more complicated PDEs often requires more specialized tools than this. See https://docs.sympy.org/latest/modules/solvers/pde.html for a more detailed list of all available tools for classifying and solving PDEs using SymPy."
   ]
  },
  {
   "cell_type": "markdown",
   "id": "9ab21216",
   "metadata": {},
   "source": [
    "### Solving a system of ODEs\n",
    "\n",
    "You still use sp.dsolve, but the equations (or expressions to set equal to 0) given need to be in a list, that is, arranged in the form **[Eq1, Eq2, ... EqN]**"
   ]
  },
  {
   "cell_type": "code",
   "execution_count": 15,
   "id": "5a87c07d",
   "metadata": {},
   "outputs": [
    {
     "data": {
      "text/plain": [
       "[Eq(f(x), -C1*exp(-x) + C2*exp(x)), Eq(g(x), C1*exp(-x) + C2*exp(x))]"
      ]
     },
     "execution_count": 15,
     "metadata": {},
     "output_type": "execute_result"
    }
   ],
   "source": [
    "x = sp.symbols('x')\n",
    "f = sp.Function('f')(x)\n",
    "g = sp.Function('g')(x)\n",
    "\n",
    "eqs = [sp.Eq(sp.Derivative(f,x), g), sp.Eq(sp.Derivative(g,x), f)]\n",
    "\n",
    "solns = sp.dsolve(eqs)\n",
    "solns"
   ]
  },
  {
   "cell_type": "markdown",
   "id": "105cfdbe",
   "metadata": {},
   "source": [
    "To retrieve an individual solution, use Python indexing (starting with 0)."
   ]
  },
  {
   "cell_type": "code",
   "execution_count": 16,
   "id": "07e4e3b4",
   "metadata": {},
   "outputs": [
    {
     "data": {
      "text/latex": [
       "$\\displaystyle f{\\left(x \\right)} = - C_{1} e^{- x} + C_{2} e^{x}$"
      ],
      "text/plain": [
       "Eq(f(x), -C1*exp(-x) + C2*exp(x))"
      ]
     },
     "execution_count": 16,
     "metadata": {},
     "output_type": "execute_result"
    }
   ],
   "source": [
    "solns[0]"
   ]
  },
  {
   "cell_type": "code",
   "execution_count": 17,
   "id": "5098f752",
   "metadata": {},
   "outputs": [
    {
     "data": {
      "text/latex": [
       "$\\displaystyle g{\\left(x \\right)} = C_{1} e^{- x} + C_{2} e^{x}$"
      ],
      "text/plain": [
       "Eq(g(x), C1*exp(-x) + C2*exp(x))"
      ]
     },
     "execution_count": 17,
     "metadata": {},
     "output_type": "execute_result"
    }
   ],
   "source": [
    "solns[1]"
   ]
  },
  {
   "cell_type": "markdown",
   "id": "1e5c2dcf",
   "metadata": {},
   "source": [
    "## 2.4 (Optional) Laplace Transforms\n",
    "\n",
    "SymPy also has both the Laplace transform and the Dirac Delta ($\\delta_{k=0}$) built in, in case you want to use SymPy to demonstrate these concepts (or give them an assignment on them using Python).\n",
    "\n",
    "The syntax for the Dirac Delta is **sp.DiracDelta(x)**. Plugging in 0 will just give the symbolic expression $\\delta(0)$ and not return infinity, though plugging in anything nonzero will return zero. The documentation gives a more thorough description of how it works: https://docs.sympy.org/latest/modules/functions/special.html#sympy.functions.special.delta_functions.DiracDelta\n",
    "\n",
    "For Laplace transforms, the syntax is\n",
    "\n",
    "**sp.laplace_transform(function, t, s)**\n",
    "\n",
    "where $t$ is the independent variable of the function and $s$ is the desired independent variable of the transform."
   ]
  },
  {
   "cell_type": "code",
   "execution_count": 30,
   "id": "4c10e5a0",
   "metadata": {},
   "outputs": [
    {
     "data": {
      "text/plain": [
       "(24/s**5, 0, True)"
      ]
     },
     "execution_count": 30,
     "metadata": {},
     "output_type": "execute_result"
    }
   ],
   "source": [
    "t, s = sp.symbols('t s')\n",
    "\n",
    "sp.laplace_transform(t**4, t, s)"
   ]
  },
  {
   "cell_type": "markdown",
   "id": "8bb238d9",
   "metadata": {},
   "source": [
    "The output has 3 parts:\n",
    "\n",
    "- First, the transform expression.\n",
    "- The Laplace transform converges absolutely on a half-plane $a < re(s)$ for some $a$. The second part of the output is that $a$.\n",
    "- The third part is some additional conditions on the validity of the transform, as seen below. For transforms with no other conditions besides the half-plane restriction, the third part is just \"True\"."
   ]
  },
  {
   "cell_type": "code",
   "execution_count": 33,
   "id": "c9559c08",
   "metadata": {},
   "outputs": [
    {
     "data": {
      "text/plain": [
       "(gamma(a + 1)/(s*s**a), 0, re(a) > -1)"
      ]
     },
     "execution_count": 33,
     "metadata": {},
     "output_type": "execute_result"
    }
   ],
   "source": [
    "a = sp.symbols('a')\n",
    "sp.laplace_transform(t**a, t, s)"
   ]
  },
  {
   "cell_type": "markdown",
   "id": "5dee0965",
   "metadata": {},
   "source": [
    "Since the output is a tuple (like a list, but with () instead of []), we can use Python indexing to refer to a single part:"
   ]
  },
  {
   "cell_type": "code",
   "execution_count": 34,
   "id": "9dbb697b",
   "metadata": {},
   "outputs": [
    {
     "data": {
      "text/latex": [
       "$\\displaystyle \\frac{s^{- a} \\Gamma\\left(a + 1\\right)}{s}$"
      ],
      "text/plain": [
       "gamma(a + 1)/(s*s**a)"
      ]
     },
     "execution_count": 34,
     "metadata": {},
     "output_type": "execute_result"
    }
   ],
   "source": [
    "sp.laplace_transform(t**a, t, s)[0]"
   ]
  },
  {
   "cell_type": "markdown",
   "id": "3b894191",
   "metadata": {},
   "source": [
    "Here's an example involving the Dirac Delta:"
   ]
  },
  {
   "cell_type": "code",
   "execution_count": 35,
   "id": "9e2679b9",
   "metadata": {
    "scrolled": true
   },
   "outputs": [
    {
     "data": {
      "text/plain": [
       "(s/(a + s), Max(0, -a), True)"
      ]
     },
     "execution_count": 35,
     "metadata": {},
     "output_type": "execute_result"
    }
   ],
   "source": [
    "sp.laplace_transform(sp.DiracDelta(t)-a*sp.exp(-a*t), t, s)"
   ]
  },
  {
   "cell_type": "markdown",
   "id": "f2df73e7",
   "metadata": {},
   "source": [
    "## 2.5 Troubleshooting\n",
    "\n",
    "Remember: sometimes the simplest explanation for an issue is the best. Look for typos (especially misplaced parenthesis or brackets), commands not being called properly, etc.\n",
    "\n",
    "1) The solver never finishes, or it gives a NotImplementedError, or the error message says it cannot solve the equation.\n",
    "\n",
    "It's sad but true- SymPy can't solve every equation, but the same can be said about Mathematica, the MATLAB symbolic toolbox, or the TI-Nspire. You can try these things to see if you can coax a solution:\n",
    "- Give the solver as much information as you can- include all relevant assumptions in your symbol definitions.\n",
    "- Play with the simplify/expand commands.\n",
    "\n",
    "2) ValueError\n",
    "\n",
    "This error usually occurs when the parameters given to a solver don't match the required form. Double-check your syntax. Remember that the initial condition parameter **ics** expects a dictionary, which is wrapped in {}."
   ]
  },
  {
   "cell_type": "markdown",
   "id": "efad1e93",
   "metadata": {},
   "source": [
    "Finally, a reminder of a couple common issues with SymPy in general that were discussed in the introductory workshop:\n",
    "\n",
    "- Symbolic expressions do NOT work with the Math or NumPy packages.\n",
    "\n",
    "- SymPy sometimes gets shaken by decimal powers.\n",
    "\n",
    "The second one is best explained through example:"
   ]
  },
  {
   "cell_type": "code",
   "execution_count": null,
   "id": "04d5db19",
   "metadata": {},
   "outputs": [],
   "source": [
    "x = sp.symbols('x', real = True)\n",
    "\n",
    "f = (x**2 - 1)**(3/2)\n",
    "sp.pprint(f)\n",
    "sp.integrate(f,x)"
   ]
  },
  {
   "cell_type": "markdown",
   "id": "0e53c4f4",
   "metadata": {},
   "source": [
    "Notice that the 3/2 was turned into 1.5 upon storing the expression to $f$. Python follows order of operations, whether we like it or not. 3/2 evaluates to a float, and SymPy isn't the greatest at converting a float to a fraction, but you can use **sp.Rational(num,denom)** to turn 3/2 into a symbolic expression to keep it from becoming a float."
   ]
  },
  {
   "cell_type": "code",
   "execution_count": null,
   "id": "f5f78a6d",
   "metadata": {},
   "outputs": [],
   "source": [
    "f = (x**2 - 1)**sp.Rational(3/2)\n",
    "sp.integrate(f,x)"
   ]
  },
  {
   "cell_type": "markdown",
   "id": "0d1dc40b",
   "metadata": {},
   "source": [
    "Another approach is to turn the 3 into a symbolic expression using **sp.S()**. Dividing a symbolic expression by an integer will give another symbolic expression."
   ]
  },
  {
   "cell_type": "code",
   "execution_count": null,
   "id": "e9d038a7",
   "metadata": {},
   "outputs": [],
   "source": [
    "sp.S(3) / 2"
   ]
  },
  {
   "cell_type": "markdown",
   "id": "c82a7269",
   "metadata": {},
   "source": [
    "To see the difference, check the data types:"
   ]
  },
  {
   "cell_type": "code",
   "execution_count": null,
   "id": "af125276",
   "metadata": {},
   "outputs": [],
   "source": [
    "print(type(3))\n",
    "print(type(sp.S(3)))"
   ]
  }
 ],
 "metadata": {
  "kernelspec": {
   "display_name": "Python 3 (ipykernel)",
   "language": "python",
   "name": "python3"
  },
  "language_info": {
   "codemirror_mode": {
    "name": "ipython",
    "version": 3
   },
   "file_extension": ".py",
   "mimetype": "text/x-python",
   "name": "python",
   "nbconvert_exporter": "python",
   "pygments_lexer": "ipython3",
   "version": "3.9.18"
  }
 },
 "nbformat": 4,
 "nbformat_minor": 5
}
