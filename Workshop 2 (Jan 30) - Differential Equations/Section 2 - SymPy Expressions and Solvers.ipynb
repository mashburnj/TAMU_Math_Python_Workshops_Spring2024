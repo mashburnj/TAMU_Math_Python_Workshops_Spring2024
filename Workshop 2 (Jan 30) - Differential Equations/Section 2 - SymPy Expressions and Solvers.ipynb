{
 "cells": [
  {
   "cell_type": "markdown",
   "id": "5bf00ae8",
   "metadata": {},
   "source": [
    "# Section 2 - SymPy Expressions and Solvers\n",
    "\n",
    "Objectives:\n",
    "- Quick refresher on SymPy basics\n",
    "- Equation and Function data types\n",
    "- Differential equation solvers\n",
    "\n",
    "Start by running the import statement below (this must be done every time you start up Jupyter Notebook or Google Colab)."
   ]
  },
  {
   "cell_type": "code",
   "execution_count": 1,
   "id": "e1fee498",
   "metadata": {},
   "outputs": [],
   "source": [
    "import sympy as sp"
   ]
  },
  {
   "cell_type": "markdown",
   "id": "3f729534",
   "metadata": {},
   "source": [
    "## 2.1 SymPy Refresher\n",
    "\n",
    "SymPy (symbolic Python) is a package containing the **symbol** and **symbolic expression** data types, as well as many functions used to manipulate them."
   ]
  },
  {
   "cell_type": "code",
   "execution_count": null,
   "id": "e0d7e78d",
   "metadata": {},
   "outputs": [],
   "source": []
  },
  {
   "cell_type": "code",
   "execution_count": null,
   "id": "9eff2674",
   "metadata": {},
   "outputs": [],
   "source": []
  },
  {
   "cell_type": "markdown",
   "id": "7286243f",
   "metadata": {},
   "source": [
    "## 2.1 The Equation and Function Data Types\n",
    "\n"
   ]
  },
  {
   "cell_type": "code",
   "execution_count": null,
   "id": "26553ee5",
   "metadata": {},
   "outputs": [],
   "source": []
  },
  {
   "cell_type": "markdown",
   "id": "6dbbbb0a",
   "metadata": {},
   "source": [
    "## 2.3 (Ordinary) Differential Equations Solver\n",
    "\n",
    "SymPy has many solvers, depending on the type of equation.\n",
    "\n",
    "The syntax for *most* solvers is **sp.solvername(expression, whattosolvefor)**, where the given expression is set equal to 0.\n",
    "\n",
    "You can also input an Equality: **sp.solvername(equality, whattosolvefor)**.\n",
    "\n",
    "**Important:** If your variables are not meant to be complex, you should include those assumptions when defining your variables. This gives the solvers more information to help reach the solution(s) faster.\n",
    "\n",
    "For more information, see https://docs.sympy.org/latest/modules/solvers/solvers.html\n",
    "\n",
    "For other types of solvers, see https://docs.sympy.org/latest/modules/solvers/index.html\n",
    "\n",
    "### sp.dsolve()\n",
    "\n",
    "SymPy's ODE solver. As usual, the input can be an expression to be set equal to 0 or an Equality."
   ]
  },
  {
   "cell_type": "code",
   "execution_count": 14,
   "id": "21f9b140",
   "metadata": {},
   "outputs": [
    {
     "data": {
      "text/latex": [
       "$\\displaystyle \\frac{d}{d x} f{\\left(x \\right)} = f{\\left(x \\right)}$"
      ],
      "text/plain": [
       "Eq(Derivative(f(x), x), f(x))"
      ]
     },
     "execution_count": 14,
     "metadata": {},
     "output_type": "execute_result"
    }
   ],
   "source": [
    "x, y = sp.symbols('x y')\n",
    "f = sp.Function('f')(x) # f is a function of x\n",
    "fp = sp.Derivative(f,x)\n",
    "LHS = fp\n",
    "RHS = f\n",
    "simpleODE = sp.Eq(LHS,RHS)\n",
    "simpleODE"
   ]
  },
  {
   "cell_type": "code",
   "execution_count": 15,
   "id": "406ad703",
   "metadata": {},
   "outputs": [
    {
     "data": {
      "text/latex": [
       "$\\displaystyle f{\\left(x \\right)} = C_{1} e^{x}$"
      ],
      "text/plain": [
       "Eq(f(x), C1*exp(x))"
      ]
     },
     "execution_count": 15,
     "metadata": {},
     "output_type": "execute_result"
    }
   ],
   "source": [
    "sp.dsolve(simpleODE,f)"
   ]
  },
  {
   "cell_type": "markdown",
   "id": "99a35673",
   "metadata": {},
   "source": [
    "Note that it gave us the most general form, with arbitrary constant $C_1$. Suppose we have initial or boundary conditions for our DE. For example, in the above, let's say $f(1) = e^2$. Then we would set the **ics** variable inside the dsolve command to hold our conditions like so:"
   ]
  },
  {
   "cell_type": "code",
   "execution_count": 18,
   "id": "18b98e5c",
   "metadata": {},
   "outputs": [
    {
     "data": {
      "text/latex": [
       "$\\displaystyle f{\\left(x \\right)} = e e^{x}$"
      ],
      "text/plain": [
       "Eq(f(x), E*exp(x))"
      ]
     },
     "execution_count": 18,
     "metadata": {},
     "output_type": "execute_result"
    }
   ],
   "source": [
    "sp.dsolve(simpleODE,f, ics = {f.subs(x,1):sp.E**2})"
   ]
  },
  {
   "cell_type": "markdown",
   "id": "4912eaea",
   "metadata": {},
   "source": [
    "For more than one condition, separate them by commas inside the {}.\n",
    "\n",
    "It can also solve a system of ODEs. For more information, see https://docs.sympy.org/latest/modules/solvers/ode.html\n",
    "\n",
    "There is also **sp.pdsolve()** for PDEs:"
   ]
  },
  {
   "cell_type": "code",
   "execution_count": 26,
   "id": "4e39ccbc",
   "metadata": {},
   "outputs": [
    {
     "data": {
      "text/latex": [
       "$\\displaystyle \\frac{\\partial}{\\partial t} f{\\left(x,t \\right)} = \\frac{\\partial}{\\partial x} f{\\left(x,t \\right)}$"
      ],
      "text/plain": [
       "Eq(Derivative(f(x, t), t), Derivative(f(x, t), x))"
      ]
     },
     "execution_count": 26,
     "metadata": {},
     "output_type": "execute_result"
    }
   ],
   "source": [
    "x, t = sp.symbols('x t', real = True)\n",
    "k = sp.symbols('k', positive = True)\n",
    "f = sp.Function('f') # This line and the next demonstrate another means of defining a Function and its input variables.\n",
    "u = f(x, t)\n",
    "ux = u.diff(x)\n",
    "ut = u.diff(t)\n",
    "eq = sp.Eq(ut, ux)\n",
    "eq"
   ]
  },
  {
   "cell_type": "code",
   "execution_count": 28,
   "id": "d5805cea",
   "metadata": {},
   "outputs": [
    {
     "data": {
      "text/latex": [
       "$\\displaystyle f{\\left(x,t \\right)} = F{\\left(t + x \\right)}$"
      ],
      "text/plain": [
       "Eq(f(x, t), F(t + x))"
      ]
     },
     "execution_count": 28,
     "metadata": {},
     "output_type": "execute_result"
    }
   ],
   "source": [
    "sp.pdsolve(eq)"
   ]
  },
  {
   "cell_type": "markdown",
   "id": "ce276382",
   "metadata": {},
   "source": [
    "To solve more complicated PDEs often requires more specialized tools than this. See https://docs.sympy.org/latest/modules/solvers/pde.html for a more detailed list of all available tools for classifying and solving PDEs using SymPy."
   ]
  },
  {
   "cell_type": "markdown",
   "id": "f2df73e7",
   "metadata": {},
   "source": [
    "## 1.4 Troubleshooting\n",
    "\n",
    "Remember: sometimes the simplest explanation for an issue is the best. Look for typos (especially misplaced parenthesis or brackets), commands not being called properly, etc.\n",
    "\n",
    "1) The solver never finishes, or it gives a NotImplementedError, or the error message says it cannot solve the equation.\n",
    "\n",
    "It's sad but true- SymPy can't solve every equation, but the same can be said about Mathematica, the MATLAB symbolic toolbox, or the TI-Nspire. You can try these things to see if you can coax a solution:\n",
    "- Give the solver as much information as you can- include all relevant assumptions in your symbol definitions.\n",
    "- Play with the simplify/expand commands."
   ]
  },
  {
   "cell_type": "code",
   "execution_count": null,
   "id": "461a8f5b",
   "metadata": {},
   "outputs": [],
   "source": []
  }
 ],
 "metadata": {
  "kernelspec": {
   "display_name": "Python 3 (ipykernel)",
   "language": "python",
   "name": "python3"
  },
  "language_info": {
   "codemirror_mode": {
    "name": "ipython",
    "version": 3
   },
   "file_extension": ".py",
   "mimetype": "text/x-python",
   "name": "python",
   "nbconvert_exporter": "python",
   "pygments_lexer": "ipython3",
   "version": "3.9.18"
  }
 },
 "nbformat": 4,
 "nbformat_minor": 5
}
