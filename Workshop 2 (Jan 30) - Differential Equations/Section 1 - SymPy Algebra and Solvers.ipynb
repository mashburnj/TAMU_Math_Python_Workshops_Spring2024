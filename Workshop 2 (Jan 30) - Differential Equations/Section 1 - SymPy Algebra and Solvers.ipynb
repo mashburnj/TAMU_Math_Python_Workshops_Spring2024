{
 "cells": [
  {
   "cell_type": "markdown",
   "id": "5bf00ae8",
   "metadata": {},
   "source": [
    "# Section 1 - SymPy Algebra and Solvers\n",
    "\n",
    "Objectives:\n",
    "- Algebraic equation solvers\n",
    "- Differential equation solvers\n",
    "\n",
    "Start by running the import statement below (this must be done every time you start up Jupyter Notebook or Google Colab)."
   ]
  },
  {
   "cell_type": "code",
   "execution_count": 1,
   "id": "e1fee498",
   "metadata": {},
   "outputs": [],
   "source": [
    "import sympy as sp"
   ]
  },
  {
   "cell_type": "markdown",
   "id": "7592c960",
   "metadata": {},
   "source": [
    "## 1.1 Solvers\n",
    "\n",
    "SymPy has many solvers, depending on the type of equation.\n",
    "\n",
    "The syntax for *most* solvers is **sp.solvername(expression, whattosolvefor)**, where the given expression is set equal to 0.\n",
    "\n",
    "You can also input an Equality: **sp.solvername(equality, whattosolvefor)**.\n",
    "\n",
    "**Important:** If your variables are not meant to be complex, you should include those assumptions when defining your variables. This gives the solvers more information to help reach the solution(s) faster.\n",
    "\n",
    "For more information, see https://docs.sympy.org/latest/modules/solvers/solvers.html\n",
    "\n",
    "For other types of solvers, see https://docs.sympy.org/latest/modules/solvers/index.html\n",
    "\n",
    "### sp.solve()\n",
    "\n",
    "The standard algebraic solver. Use if you want to solve an equation for a variable, or a system of equations for multiple variables."
   ]
  },
  {
   "cell_type": "code",
   "execution_count": null,
   "id": "4809d3f8",
   "metadata": {},
   "outputs": [],
   "source": [
    "expr = 4*x**2 - 48\n",
    "solns = sp.solve(expr, x) # Solves the equation expr = 0\n",
    "solns"
   ]
  },
  {
   "cell_type": "code",
   "execution_count": null,
   "id": "a7df83da",
   "metadata": {},
   "outputs": [],
   "source": [
    "equ = sp.Eq(4*x**2, 48) # Equation 4x^2 = 48\n",
    "solns = sp.solve(equ,x)\n",
    "solns"
   ]
  },
  {
   "cell_type": "markdown",
   "id": "0f7e5996",
   "metadata": {},
   "source": [
    "Note that we get a list in the single-variable case. Also, if there are no solutions, you'll get an empty list []. To access a specific solution, use the index (starting from 0):"
   ]
  },
  {
   "cell_type": "code",
   "execution_count": null,
   "id": "f84330a2",
   "metadata": {},
   "outputs": [],
   "source": [
    "solns[0]"
   ]
  },
  {
   "cell_type": "markdown",
   "id": "bae88f55",
   "metadata": {},
   "source": [
    "**Next, a system of equations:**"
   ]
  },
  {
   "cell_type": "code",
   "execution_count": null,
   "id": "fcfaa345",
   "metadata": {},
   "outputs": [],
   "source": [
    "expr1 = 4*x - 3*y - 9\n",
    "expr2 = 3*x - 2*y - 7\n",
    "sp.solve([expr1,expr2],[x,y])"
   ]
  },
  {
   "cell_type": "code",
   "execution_count": null,
   "id": "9710b992",
   "metadata": {},
   "outputs": [],
   "source": [
    "expr1 = sp.Eq(4*x - 3*y, 9)\n",
    "expr2 = sp.Eq(3*x - 2*y, 7)\n",
    "solns = sp.solve([expr1,expr2],[x,y])\n",
    "solns"
   ]
  },
  {
   "cell_type": "markdown",
   "id": "08599c13",
   "metadata": {},
   "source": [
    "Notice we get a dictionary this time. The index is the list of variable names, so to retrieve a solution, we just use the variable names to get its coordinate. For example, **solns[x]** would return 3.\n",
    "\n",
    "**Your Turn:** Solve the equation given by LHS = RHS using the LHS and RHS defined below. (Note that SymPy considers the principal branch of the complex logarithm. How would you modify this code so we just consider the standard real-valued logarithm?)"
   ]
  },
  {
   "cell_type": "code",
   "execution_count": null,
   "id": "27682ea3",
   "metadata": {},
   "outputs": [],
   "source": [
    "x = sp.symbols('x')\n",
    "LHS = sp.log(2 * x - 2 * x**2)\n",
    "RHS = sp.log(x - 2) + sp.log(2)\n",
    "\n"
   ]
  },
  {
   "cell_type": "markdown",
   "id": "dd77e4bb",
   "metadata": {},
   "source": [
    "### sp.nsolve()\n",
    "\n",
    "This has a different syntax: **sp.nsolve(expr, x0)**, where expr is set equal to 0 as usual, but this is a numerical method that requires a starting guess **x0**. It returns one solution at a time."
   ]
  },
  {
   "cell_type": "code",
   "execution_count": null,
   "id": "e535d3d3",
   "metadata": {},
   "outputs": [],
   "source": [
    "x, y = sp.symbols('x y')\n",
    "\n",
    "sol1 = sp.nsolve(x**2 - 8, 3)\n",
    "sol2 = sp.nsolve(x**2 - 8, -3)\n",
    "print(sol1,sol2)"
   ]
  },
  {
   "cell_type": "markdown",
   "id": "36213d60",
   "metadata": {},
   "source": [
    "Here's a multivariable example. The syntax is **sp.nsolve((tuple_of_expressions), (tuple_of_variables),(starting_guess_tuple))**"
   ]
  },
  {
   "cell_type": "code",
   "execution_count": null,
   "id": "c6b2c182",
   "metadata": {},
   "outputs": [],
   "source": [
    "sp.nsolve((sp.sin(x), sp.sin(y)), (x,y), (sp.pi.evalf(), sp.pi.evalf()))"
   ]
  },
  {
   "cell_type": "markdown",
   "id": "6dbbbb0a",
   "metadata": {},
   "source": [
    "## 1.2 (Ordinary) Differential Equations Solver\n",
    "\n",
    "### sp.dsolve()\n",
    "\n",
    "SymPy's ODE solver. As usual, the input can be an expression to be set equal to 0 or an Equality."
   ]
  },
  {
   "cell_type": "code",
   "execution_count": 14,
   "id": "21f9b140",
   "metadata": {},
   "outputs": [
    {
     "data": {
      "text/latex": [
       "$\\displaystyle \\frac{d}{d x} f{\\left(x \\right)} = f{\\left(x \\right)}$"
      ],
      "text/plain": [
       "Eq(Derivative(f(x), x), f(x))"
      ]
     },
     "execution_count": 14,
     "metadata": {},
     "output_type": "execute_result"
    }
   ],
   "source": [
    "x, y = sp.symbols('x y')\n",
    "f = sp.Function('f')(x) # f is a function of x\n",
    "fp = sp.Derivative(f,x)\n",
    "LHS = fp\n",
    "RHS = f\n",
    "simpleODE = sp.Eq(LHS,RHS)\n",
    "simpleODE"
   ]
  },
  {
   "cell_type": "code",
   "execution_count": 15,
   "id": "406ad703",
   "metadata": {},
   "outputs": [
    {
     "data": {
      "text/latex": [
       "$\\displaystyle f{\\left(x \\right)} = C_{1} e^{x}$"
      ],
      "text/plain": [
       "Eq(f(x), C1*exp(x))"
      ]
     },
     "execution_count": 15,
     "metadata": {},
     "output_type": "execute_result"
    }
   ],
   "source": [
    "sp.dsolve(simpleODE,f)"
   ]
  },
  {
   "cell_type": "markdown",
   "id": "99a35673",
   "metadata": {},
   "source": [
    "Note that it gave us the most general form, with arbitrary constant $C_1$. Suppose we have initial or boundary conditions for our DE. For example, in the above, let's say $f(1) = e^2$. Then we would set the **ics** variable inside the dsolve command to hold our conditions like so:"
   ]
  },
  {
   "cell_type": "code",
   "execution_count": 18,
   "id": "18b98e5c",
   "metadata": {},
   "outputs": [
    {
     "data": {
      "text/latex": [
       "$\\displaystyle f{\\left(x \\right)} = e e^{x}$"
      ],
      "text/plain": [
       "Eq(f(x), E*exp(x))"
      ]
     },
     "execution_count": 18,
     "metadata": {},
     "output_type": "execute_result"
    }
   ],
   "source": [
    "sp.dsolve(simpleODE,f, ics = {f.subs(x,1):sp.E**2})"
   ]
  },
  {
   "cell_type": "markdown",
   "id": "4912eaea",
   "metadata": {},
   "source": [
    "For more than one condition, separate them by commas inside the {}.\n",
    "\n",
    "It can also solve a system of ODEs. For more information, see https://docs.sympy.org/latest/modules/solvers/ode.html\n",
    "\n",
    "There is also **sp.pdsolve()** for PDEs:"
   ]
  },
  {
   "cell_type": "code",
   "execution_count": 26,
   "id": "4e39ccbc",
   "metadata": {},
   "outputs": [
    {
     "data": {
      "text/latex": [
       "$\\displaystyle \\frac{\\partial}{\\partial t} f{\\left(x,t \\right)} = \\frac{\\partial}{\\partial x} f{\\left(x,t \\right)}$"
      ],
      "text/plain": [
       "Eq(Derivative(f(x, t), t), Derivative(f(x, t), x))"
      ]
     },
     "execution_count": 26,
     "metadata": {},
     "output_type": "execute_result"
    }
   ],
   "source": [
    "x, t = sp.symbols('x t', real = True)\n",
    "k = sp.symbols('k', positive = True)\n",
    "f = sp.Function('f') # This line and the next demonstrate another means of defining a Function and its input variables.\n",
    "u = f(x, t)\n",
    "ux = u.diff(x)\n",
    "ut = u.diff(t)\n",
    "eq = sp.Eq(ut, ux)\n",
    "eq"
   ]
  },
  {
   "cell_type": "code",
   "execution_count": 28,
   "id": "d5805cea",
   "metadata": {},
   "outputs": [
    {
     "data": {
      "text/latex": [
       "$\\displaystyle f{\\left(x,t \\right)} = F{\\left(t + x \\right)}$"
      ],
      "text/plain": [
       "Eq(f(x, t), F(t + x))"
      ]
     },
     "execution_count": 28,
     "metadata": {},
     "output_type": "execute_result"
    }
   ],
   "source": [
    "sp.pdsolve(eq)"
   ]
  },
  {
   "cell_type": "markdown",
   "id": "ce276382",
   "metadata": {},
   "source": [
    "To solve more complicated PDEs often requires more specialized tools than this. See https://docs.sympy.org/latest/modules/solvers/pde.html for a more detailed list of all available tools for classifying and solving PDEs using SymPy."
   ]
  },
  {
   "cell_type": "markdown",
   "id": "7361aa5c",
   "metadata": {},
   "source": [
    "### Other solvers\n",
    "\n",
    "- **solve_linear_system()**: given an augmented matrix, solves the corresponding linear system using Gauss-Jordan elimination\n",
    "- **rsolve()**: solves recurrence relations\n",
    "- **solve_poly_system()**: solves multivariable polynomial systems\n",
    "- **solve_rational_inequalities()**: solves a system of inequalities with rational coefficients (can be very slow!)\n",
    "\n",
    "For more information on inequality solvers, see https://docs.sympy.org/latest/modules/solvers/inequalities.html#inequality-docs"
   ]
  },
  {
   "cell_type": "markdown",
   "id": "197a2e27",
   "metadata": {},
   "source": [
    "## 1.3 Output in SymPy\n",
    "\n",
    "Regular print statement output:"
   ]
  },
  {
   "cell_type": "code",
   "execution_count": null,
   "id": "191ad511",
   "metadata": {},
   "outputs": [],
   "source": [
    "f = x**2 + sp.sin(x) / 4\n",
    "print(f)"
   ]
  },
  {
   "cell_type": "markdown",
   "id": "17b7b664",
   "metadata": {},
   "source": [
    "Notebook output- uses LaTeX but has to be the last line of a cell:"
   ]
  },
  {
   "cell_type": "code",
   "execution_count": null,
   "id": "858da095",
   "metadata": {},
   "outputs": [],
   "source": [
    "f"
   ]
  },
  {
   "cell_type": "markdown",
   "id": "9aa3e087",
   "metadata": {},
   "source": [
    "SymPy's \"Pretty Printing\"- uses ASCII characters and doesn't have to be the last line of a cell: (**sp.pretty()** also works)"
   ]
  },
  {
   "cell_type": "code",
   "execution_count": null,
   "id": "e67048bd",
   "metadata": {},
   "outputs": [],
   "source": [
    "sp.pprint(f)"
   ]
  },
  {
   "cell_type": "markdown",
   "id": "4b2a7a4e",
   "metadata": {},
   "source": [
    "SymPy also has LaTeX code output, ready to copy/paste, though it may have some extra stuff you don't need:"
   ]
  },
  {
   "cell_type": "code",
   "execution_count": null,
   "id": "84e70064",
   "metadata": {},
   "outputs": [],
   "source": [
    "sp.print_latex(f)"
   ]
  },
  {
   "cell_type": "markdown",
   "id": "8153651b",
   "metadata": {},
   "source": [
    "Technical note: if you need this as a STRING for Python to insert into a file (for example, you're computing a bunch of expressions at once and need LaTeX code for all results saved to disk), use this instead:"
   ]
  },
  {
   "cell_type": "code",
   "execution_count": null,
   "id": "33141883",
   "metadata": {},
   "outputs": [],
   "source": [
    "sp.latex(f)"
   ]
  },
  {
   "cell_type": "markdown",
   "id": "f2df73e7",
   "metadata": {},
   "source": [
    "## 1.4 Troubleshooting\n",
    "\n",
    "Remember: sometimes the simplest explanation for an issue is the best. Look for typos (especially misplaced parenthesis or brackets), commands not being called properly, etc.\n",
    "\n",
    "1) The solver never finishes, or it gives a NotImplementedError, or the error message says it cannot solve the equation.\n",
    "\n",
    "It's sad but true- SymPy can't solve every equation, but the same can be said about Mathematica, the MATLAB symbolic toolbox, or the TI-Nspire. You can try these things to see if you can coax a solution:\n",
    "- Give the solver as much information as you can- include all relevant assumptions in your symbol definitions.\n",
    "- Play with the simplify/expand commands.\n",
    "- Use **sp.nsolve** if an exact form is unimportant."
   ]
  },
  {
   "cell_type": "code",
   "execution_count": null,
   "id": "461a8f5b",
   "metadata": {},
   "outputs": [],
   "source": []
  }
 ],
 "metadata": {
  "kernelspec": {
   "display_name": "Python 3 (ipykernel)",
   "language": "python",
   "name": "python3"
  },
  "language_info": {
   "codemirror_mode": {
    "name": "ipython",
    "version": 3
   },
   "file_extension": ".py",
   "mimetype": "text/x-python",
   "name": "python",
   "nbconvert_exporter": "python",
   "pygments_lexer": "ipython3",
   "version": "3.9.18"
  }
 },
 "nbformat": 4,
 "nbformat_minor": 5
}
