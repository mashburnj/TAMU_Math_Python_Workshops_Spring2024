{
 "cells": [
  {
   "cell_type": "markdown",
   "id": "5bf00ae8",
   "metadata": {},
   "source": [
    "# Section 4 - SymPy Basics\n",
    "\n",
    "Objectives:\n",
    "- Symbolic Expressions\n",
    "- Symbolic Versions of Common Math Functions\n",
    "- Algebraic Manipulation\n",
    "- Other Symbolic Data Types\n",
    "\n",
    "Start by running the import statement below (this must be done every time you start up Jupyter Notebook)."
   ]
  },
  {
   "cell_type": "code",
   "execution_count": null,
   "id": "e1fee498",
   "metadata": {},
   "outputs": [],
   "source": [
    "import sympy as sp"
   ]
  },
  {
   "cell_type": "markdown",
   "id": "710a7d41",
   "metadata": {},
   "source": [
    "## 4.1 Symbolic Expressions\n",
    "\n",
    "The most basic SymPy data type is the **symbol**. There are several ways you can define a symbol:"
   ]
  },
  {
   "cell_type": "code",
   "execution_count": null,
   "id": "c6fe66b8",
   "metadata": {},
   "outputs": [],
   "source": [
    "x = sp.symbols('x')\n",
    "y, z = sp.symbols('y z') # For multiple variables. Notice the space inside the string instead of a comma\n",
    "\n",
    "iamasymbol = sp.symbols('iamasymbol') # You can use a whole word- it just isn't going to look good.\n",
    "\n",
    "theta = sp.symbols('theta')\n",
    "theta # With SymPy's LaTeX printing mode, the actual Greek letters get displayed instead of the words!"
   ]
  },
  {
   "cell_type": "markdown",
   "id": "b5873ea2",
   "metadata": {},
   "source": [
    "Often, you'll want to restrict the domain for a variable- *by default, symbols are assumed to be complex variables*, so any time you use a solver, it will consider complex solutions unless you tell it otherwise. Here are some ways you can do so:"
   ]
  },
  {
   "cell_type": "code",
   "execution_count": null,
   "id": "1b4c8ac2",
   "metadata": {},
   "outputs": [],
   "source": [
    "x = sp.symbols('x', real = True) # x in R\n",
    "x = sp.symbols('x', positive = True) # x in R+\n",
    "x = sp.symbols('x', integer = True) # x in Z\n",
    "x = sp.symbols('x', integer = True, positive = True) # x in N"
   ]
  },
  {
   "cell_type": "markdown",
   "id": "17f86a18",
   "metadata": {},
   "source": [
    "To see all assumptions about a symbolic variable, print the **assumptions0** attribute of the variable:"
   ]
  },
  {
   "cell_type": "code",
   "execution_count": null,
   "id": "9b1eccd2",
   "metadata": {},
   "outputs": [],
   "source": [
    "print(x.assumptions0)"
   ]
  },
  {
   "cell_type": "markdown",
   "id": "668315df",
   "metadata": {},
   "source": [
    "Most of these are still on their defaults, but by setting positive = True, we also set negative and nonpositive to False, and by setting integer to True, we set noninteger to False."
   ]
  },
  {
   "cell_type": "markdown",
   "id": "977fecb2",
   "metadata": {},
   "source": [
    "Using symbols, you can define a **symbolic expression**. Basic arithmetic for symbols is the same as for numbers, just tweaked behind the scenes to handle these new data types:"
   ]
  },
  {
   "cell_type": "code",
   "execution_count": null,
   "id": "be137cbd",
   "metadata": {},
   "outputs": [],
   "source": [
    "f = 3 * x * y + x**y - x % y + x // y\n",
    "f"
   ]
  },
  {
   "cell_type": "markdown",
   "id": "8b69ebd4",
   "metadata": {},
   "source": [
    "For fun, here's a noncommutative example:"
   ]
  },
  {
   "cell_type": "code",
   "execution_count": null,
   "id": "88b40a6d",
   "metadata": {},
   "outputs": [],
   "source": [
    "a, b = sp.symbols('a b', commutative = False)\n",
    "\n",
    "h = a*b - b*a\n",
    "sp.simplify(h)"
   ]
  },
  {
   "cell_type": "markdown",
   "id": "d2f04671",
   "metadata": {},
   "source": [
    "What about more advanced mathematical functions?"
   ]
  },
  {
   "cell_type": "code",
   "execution_count": null,
   "id": "8a486963",
   "metadata": {},
   "outputs": [],
   "source": [
    "import math\n",
    "\n",
    "math.sin(x)"
   ]
  },
  {
   "cell_type": "markdown",
   "id": "6588bde6",
   "metadata": {},
   "source": [
    "The above error is extremely common in MATH 151 and 152 labs. The Math package functions all expect a floating point number as an input, but these are symbols, so we'll need new versions of these functions..."
   ]
  },
  {
   "cell_type": "markdown",
   "id": "4f485531",
   "metadata": {},
   "source": [
    "## 4.2 Symbolic Versions of Common Math Functions\n",
    "\n",
    "Just about every such function you would expect to be included in SymPy, is. Caution: since we imported SymPy \"as sp\", you have to preface each of these functions with **sp.** whenever you wish to use one.\n",
    "\n",
    "- **exp(x)**\n",
    "- **log(x, base)** (principal branch. If you leave the base blank, the default is $e$.)\n",
    "- **sin(x)**, **cos(x)**, **tan(x)**, **csc(x)**, **sec(x)**, **cot(x)**\n",
    "- **asin(x)** (arcsin- the rest are similar)\n",
    "- **sinh(x)**, **cosh(x)**, **tanh(x)**\n",
    "- **Abs(x)** (absolute value. Not sure why SymPy implemented this with the A capitalized, but they did, so don't forget.)\n",
    "- **Pow(x,n)** (also capitalized)\n",
    "- **sqrt(x)**, **root(x, n, k)** ($k$th $n$th root of a complex number. Default is $k=0$, so the principal root) \n",
    "- **ceiling(x)**, **floor(x)**\n",
    "- **factorial(n)**, **gamma(x)**\n",
    "- **binomial(n,k)**\n",
    "\n",
    "Complex functions such as **re(z)**, **im(z)**, **sign(z)**, **conjugate(z)**, **gamma(z)** are also present in abundance. The above functions also work on complexes wherever they should.\n",
    "\n",
    "See a much more comprehensive list at https://docs.sympy.org/latest/modules/functions/elementary.html\n",
    "\n",
    "Moreover, SymPy comes with several constants built-in:\n",
    "- **pi**\n",
    "- **E** (yes, capitalized)\n",
    "- **I** (also capitalized)\n",
    "\n",
    "Along multiple versions of infinity:\n",
    "- **oo** (infinity)\n",
    "- **-oo** (negative infinity)\n",
    "- **zoo** (complex infinity)\n",
    "\n",
    "Just like the functions, these are SymPy symbolic objects, so you would need to type **sp.pi** to use $\\pi$, for instance.\n",
    "\n",
    "**Your turn**: A quick one this time. Compute infinity - infinity using SymPy's version and see what happens this time (Python's floating point version of this calculation gave +infinity). If you'd like, try building some expressions using the above built-in functions as well!"
   ]
  },
  {
   "cell_type": "code",
   "execution_count": null,
   "id": "62455452",
   "metadata": {},
   "outputs": [],
   "source": []
  },
  {
   "cell_type": "markdown",
   "id": "24247f29",
   "metadata": {},
   "source": [
    "## 4.3 Algebraic Manipulation\n",
    "\n",
    "A common use of a computer algebra system (CAS) is to factor or simplify a more complicated expression, at least to the extent the domain allows. SymPy comes with many functions for this purpose.\n",
    "\n",
    "Note: These functions respect the conditions under which identities hold - you need the proper assumptions for SymPy to apply certain identities!\n",
    "\n",
    "General Purpose:\n",
    "- **collect(f,x)**: collects like powers of $x$.\n",
    "- **expand(f)**: An all-purpose expansion tool.\n",
    "- **factor(f)**: factors the expression.\n",
    "- **simplify(f)**: An all-purpose simplify tool. If it doesn't give good results, try one of the above first.\n",
    "\n",
    "**Your turn**: Below, I have the expression $\\sqrt{t^2}$. Simplify it. Next, try adding the assumption that t is real. Then positive."
   ]
  },
  {
   "cell_type": "code",
   "execution_count": null,
   "id": "69900908",
   "metadata": {},
   "outputs": [],
   "source": [
    "t = sp.symbols('t')\n",
    "f = sp.sqrt(t**2)\n"
   ]
  },
  {
   "cell_type": "markdown",
   "id": "896eb32b",
   "metadata": {},
   "source": [
    "### More specialized expand/simplify functions:\n",
    "\n",
    "If you wish to force the use of an identity, after the expression input, put a comma, then \"force = True\". It doesn't work for every one of these, though.\n",
    "\n",
    "Logarithms:\n",
    "- **expand_log(f)**: applies logarithm identities to expand an expression\n",
    "- **logcombine(f)**: applies log identities to combine terms"
   ]
  },
  {
   "cell_type": "code",
   "execution_count": null,
   "id": "0f037716",
   "metadata": {},
   "outputs": [],
   "source": [
    "x = sp.symbols('x', positive = True)\n",
    "\n",
    "sp.expand_log(sp.log(x*(x+1)))"
   ]
  },
  {
   "cell_type": "markdown",
   "id": "3592a356",
   "metadata": {},
   "source": [
    "Power:\n",
    "- **powsimp(f)**: applies exponent rules to simplify"
   ]
  },
  {
   "cell_type": "code",
   "execution_count": null,
   "id": "bce0bbf8",
   "metadata": {},
   "outputs": [],
   "source": [
    "x, y = sp.symbols('x y')\n",
    "\n",
    "sp.powsimp((x*y)**8)"
   ]
  },
  {
   "cell_type": "markdown",
   "id": "b4a4a136",
   "metadata": {},
   "source": [
    "Rational:\n",
    "- **apart(f)**: partial fraction decompositon on a rational function\n",
    "- **cancel(f)**: reduces rational functions to the point where num and denom have no common factors, and the leading coeffs are integers"
   ]
  },
  {
   "cell_type": "code",
   "execution_count": null,
   "id": "736de836",
   "metadata": {},
   "outputs": [],
   "source": [
    "f = (2*x + 1) / (x**2 - x**2 - 6)\n",
    "\n",
    "sp.apart(f)"
   ]
  },
  {
   "cell_type": "markdown",
   "id": "a0543d85",
   "metadata": {},
   "source": [
    "Trigonometric:\n",
    "- **expand_trig(f)**: applies sum or double-angle identities to expand an expression\n",
    "- **trigsimp(f)**: applies trigonometric identities to simplify an expression"
   ]
  },
  {
   "cell_type": "code",
   "execution_count": null,
   "id": "5a0a9e63",
   "metadata": {},
   "outputs": [],
   "source": [
    "f = (1 - sp.cos(2*x))/2\n",
    "\n",
    "sp.trigsimp(f)"
   ]
  },
  {
   "cell_type": "markdown",
   "id": "2a421b15",
   "metadata": {},
   "source": [
    "For more information, see https://docs.sympy.org/latest/tutorials/intro-tutorial/simplification.html\n",
    "\n",
    "**Your turn**: Simplify this function however you wish. Different methods will give you slightly different results."
   ]
  },
  {
   "cell_type": "code",
   "execution_count": null,
   "id": "940ef64c",
   "metadata": {},
   "outputs": [],
   "source": [
    "x = sp.symbols('x', positive = True)\n",
    "f = sp.sin(sp.atan( sp.log(x**2) + sp.log(x) ))**2\n",
    "\n"
   ]
  },
  {
   "cell_type": "markdown",
   "id": "4f21b4c4",
   "metadata": {},
   "source": [
    "### Substitution\n",
    "\n",
    "Given a symbolic expression of a variable, often we want to plug in a specific value. The syntax is:\n",
    "\n",
    "**expression.subs(variable,value)**"
   ]
  },
  {
   "cell_type": "code",
   "execution_count": null,
   "id": "43a22cc0",
   "metadata": {},
   "outputs": [],
   "source": [
    "x = sp.symbols('x', real = True)\n",
    "f = x**2 + 1\n",
    "val2 = f.subs(x,2)\n",
    "print('f(2) =',val2)\n",
    "valI = f.subs(x,sp.I) # sp.I is the constant i\n",
    "print('f(i) =',valI)"
   ]
  },
  {
   "cell_type": "markdown",
   "id": "76ed2ab4",
   "metadata": {},
   "source": [
    "Notice that subs ignored the assumption on the variable and let us plug $x=i$ in anyway.\n",
    "\n",
    "**Your turn**: You can use **subs** to swap out whole expressions as well. For the polynomial $x^2 + 14x + 49$ defined below, make the appropriate substitution to rewrite the expression as $t^2$. (Hint: you'll need SymPy to factor the expression first.)"
   ]
  },
  {
   "cell_type": "code",
   "execution_count": null,
   "id": "09155d00",
   "metadata": {},
   "outputs": [],
   "source": [
    "x, t = sp.symbols('x t')\n",
    "f = x**2 + 14*x + 49\n",
    "\n"
   ]
  },
  {
   "cell_type": "markdown",
   "id": "7b7549ad",
   "metadata": {},
   "source": [
    "Subs can also be used to compose two functions:"
   ]
  },
  {
   "cell_type": "code",
   "execution_count": null,
   "id": "4c02accd",
   "metadata": {},
   "outputs": [],
   "source": [
    "x = sp.symbols('x')\n",
    "g = sp.log(9*x**2)\n",
    "h = sp.exp(x)\n",
    "comp = g.subs(x,h)\n",
    "comp"
   ]
  },
  {
   "cell_type": "markdown",
   "id": "e1a12b3f",
   "metadata": {},
   "source": [
    "Which, in expanded form, is..."
   ]
  },
  {
   "cell_type": "code",
   "execution_count": null,
   "id": "140ff362",
   "metadata": {},
   "outputs": [],
   "source": [
    "sp.expand_log(comp)"
   ]
  },
  {
   "cell_type": "markdown",
   "id": "ad86a336",
   "metadata": {},
   "source": [
    "### Decimal Form (Approximate)\n",
    "\n",
    "If you ever want SymPy to evaluate a symbolic expression containing no variables, type **.evalf()** after the expression or its name."
   ]
  },
  {
   "cell_type": "code",
   "execution_count": null,
   "id": "8323597b",
   "metadata": {},
   "outputs": [],
   "source": [
    "expression = sp.exp(12) #e^12\n",
    "print(expression) # Keeps the expression exact unless forced otherwise by .evalf()\n",
    "expression.evalf()"
   ]
  },
  {
   "cell_type": "markdown",
   "id": "a09ac6d2",
   "metadata": {},
   "source": [
    "## 4.4 Other Symbolic Data Types\n",
    "\n",
    "### Functions\n",
    "\n",
    "Functions in SymPy are symbolic representations of a function $f(x)$. They are defined similarly to symbols:"
   ]
  },
  {
   "cell_type": "code",
   "execution_count": null,
   "id": "92952f38",
   "metadata": {},
   "outputs": [],
   "source": [
    "x, y = sp.symbols('x y')\n",
    "f = sp.Function('f')(x) # f is a function of x\n",
    "g = sp.Function('g')(x,y) # g is a function of x and y\n",
    "g"
   ]
  },
  {
   "cell_type": "markdown",
   "id": "d19dc724",
   "metadata": {},
   "source": [
    "Note: At some point, you were able to define a Function using sp.symbols with the assumption \"cls=Function\", but they seem to have removed that method.\n",
    "\n",
    "For differential equations, you also want representations of the derivative(s) of an unknown $f$:"
   ]
  },
  {
   "cell_type": "code",
   "execution_count": null,
   "id": "83d8707c",
   "metadata": {},
   "outputs": [],
   "source": [
    "fp = sp.Derivative(f,x)\n",
    "fpp = sp.Derivative(f,x,2) # Second derivative. Replace 2 with n to get nth derivative\n",
    "dgdx = sp.Derivative(g,x)\n",
    "d2gdxdy = sp.Derivative(g,x,y) # Second partial derivative w.r.t. x and y\n",
    "d2gdxdy"
   ]
  },
  {
   "cell_type": "markdown",
   "id": "1411fb38",
   "metadata": {},
   "source": [
    "For integral equations, you might want this:"
   ]
  },
  {
   "cell_type": "code",
   "execution_count": null,
   "id": "e348aebc",
   "metadata": {},
   "outputs": [],
   "source": [
    "F = sp.Integral(f,x)\n",
    "F"
   ]
  },
  {
   "cell_type": "markdown",
   "id": "5b83ed84",
   "metadata": {},
   "source": [
    "Note: Function, Derivative, and Integral are capitalized. This is a way to remember these create and manipulate symbolic stand-ins for functions, and are *not* operations to be applied to expressions."
   ]
  },
  {
   "cell_type": "markdown",
   "id": "fc17aa18",
   "metadata": {},
   "source": [
    "Next, we have the general data type of **relations**. First up is **Equalities** (what SymPy calls their equation data type). Use **sp.Eq(LHS,RHS)** to create one."
   ]
  },
  {
   "cell_type": "code",
   "execution_count": null,
   "id": "1b8770c0",
   "metadata": {},
   "outputs": [],
   "source": [
    "LHS =  3*x**2 - 12*x\n",
    "RHS = -9\n",
    "simpleEq = sp.Eq(LHS,RHS)\n",
    "simpleEq"
   ]
  },
  {
   "cell_type": "code",
   "execution_count": null,
   "id": "074f9ca3",
   "metadata": {},
   "outputs": [],
   "source": [
    "LHS = fp\n",
    "RHS = f\n",
    "simpleODE = sp.Eq(LHS,RHS)\n",
    "simpleODE"
   ]
  },
  {
   "cell_type": "markdown",
   "id": "6ec52a5d",
   "metadata": {},
   "source": [
    "You can't do arithmetical operations to both sides like you could by hand, but **simplify** and other algebraic commands will work on Equalities:"
   ]
  },
  {
   "cell_type": "code",
   "execution_count": null,
   "id": "12470d9b",
   "metadata": {},
   "outputs": [],
   "source": [
    "simpleEq.simplify() # or you could put sp.simplify(simpleEq)"
   ]
  },
  {
   "cell_type": "markdown",
   "id": "9abe9d42",
   "metadata": {},
   "source": [
    "Then there's **Inequalities**:\n",
    "\n",
    "- **Ne(LHS,RHS)** is Unequality (SymPy's term, not mine)\n",
    "- **Lt(LHS,RHS)** is Less Than (strict)\n",
    "- **Le(LHS,RHS)** is Less Than or Equal To\n",
    "- **Gt(LHS,RHS)** is Greater Than (strict)\n",
    "- **Ge(LHS,RHS)** is Greater Than or Equal To"
   ]
  },
  {
   "cell_type": "code",
   "execution_count": null,
   "id": "d1519cf7",
   "metadata": {},
   "outputs": [],
   "source": [
    "LHS = x + 2\n",
    "RHS = 2*x - 1\n",
    "\n",
    "simpleLt = sp.Lt(LHS,RHS)\n",
    "sp.pprint(simpleLt)\n",
    "simpleLt.simplify()"
   ]
  },
  {
   "cell_type": "markdown",
   "id": "c4a700e9",
   "metadata": {},
   "source": [
    "These are examples of the more general **Relational** data type. You can combine multiple inequalities to get a Relational:"
   ]
  },
  {
   "cell_type": "code",
   "execution_count": null,
   "id": "beffaf74",
   "metadata": {},
   "outputs": [],
   "source": [
    "x = sp.symbols('x')\n",
    "R = sp.Lt(5,x) & sp.Lt(x,10) # SymPy only supports the symbolic and/or to chain inequalities.\n",
    "R"
   ]
  },
  {
   "cell_type": "markdown",
   "id": "f2df73e7",
   "metadata": {},
   "source": [
    "## 4.5 Troubleshooting\n",
    "\n",
    "Remember: sometimes the simplest explanation for an issue is the best. Look for typos (especially misplaced parenthesis or brackets), commands not being called properly, etc.\n",
    "\n",
    "1) Symbolic expressions *do NOT* work with the Math or NumPy packages' versions of sin, cos, etc.!!!"
   ]
  },
  {
   "cell_type": "code",
   "execution_count": null,
   "id": "69a670f1",
   "metadata": {},
   "outputs": [],
   "source": [
    "import numpy as np\n",
    "\n",
    "x = sp.symbols('x')\n",
    "\n",
    "np.sqrt(x)"
   ]
  },
  {
   "cell_type": "markdown",
   "id": "3e5cd383",
   "metadata": {},
   "source": [
    "It certainly doesn't help that the TypeError messages NumPy gives are worded like that."
   ]
  },
  {
   "cell_type": "markdown",
   "id": "0cab07b3",
   "metadata": {},
   "source": [
    "2) SymPy sometimes gets shaken by decimal powers.\n",
    "\n",
    "This one's best explained after an example:"
   ]
  },
  {
   "cell_type": "code",
   "execution_count": null,
   "id": "dffb5e72",
   "metadata": {},
   "outputs": [],
   "source": [
    "x = sp.symbols('x', real = True)\n",
    "\n",
    "f = (x**2 - 1)**(3/2)\n",
    "sp.pprint(f)\n",
    "sp.integrate(f,x)"
   ]
  },
  {
   "cell_type": "markdown",
   "id": "a525c742",
   "metadata": {},
   "source": [
    "Notice that the 3/2 was turned into 1.5 upon storing the expression to $f$. Python follows order of operations, whether we like it or not. 3/2 evaluates to a float, and SymPy isn't the greatest at converting a float to a fraction, but you can use **sp.Rational(num,denom)** to turn 3/2 into a symbolic expression to keep it from becoming a float."
   ]
  },
  {
   "cell_type": "code",
   "execution_count": null,
   "id": "e067caa7",
   "metadata": {},
   "outputs": [],
   "source": [
    "f = (x**2 - 1)**sp.Rational(3/2)\n",
    "sp.integrate(f,x)"
   ]
  },
  {
   "cell_type": "markdown",
   "id": "8c5dd9d0",
   "metadata": {},
   "source": [
    "Another approach is to turn the 3 into a symbolic expression using **sp.S()**. Dividing a symbolic expression by an integer will give another symbolic expression."
   ]
  },
  {
   "cell_type": "code",
   "execution_count": null,
   "id": "d964ebda",
   "metadata": {},
   "outputs": [],
   "source": [
    "sp.S(3) / 2"
   ]
  },
  {
   "cell_type": "markdown",
   "id": "6f11e9c9",
   "metadata": {},
   "source": [
    "To see the difference, check the data types:"
   ]
  },
  {
   "cell_type": "code",
   "execution_count": null,
   "id": "4e457545",
   "metadata": {},
   "outputs": [],
   "source": [
    "print(type(3))\n",
    "print(type(sp.S(3)))"
   ]
  }
 ],
 "metadata": {
  "kernelspec": {
   "display_name": "Python 3 (ipykernel)",
   "language": "python",
   "name": "python3"
  },
  "language_info": {
   "codemirror_mode": {
    "name": "ipython",
    "version": 3
   },
   "file_extension": ".py",
   "mimetype": "text/x-python",
   "name": "python",
   "nbconvert_exporter": "python",
   "pygments_lexer": "ipython3",
   "version": "3.9.18"
  }
 },
 "nbformat": 4,
 "nbformat_minor": 5
}
