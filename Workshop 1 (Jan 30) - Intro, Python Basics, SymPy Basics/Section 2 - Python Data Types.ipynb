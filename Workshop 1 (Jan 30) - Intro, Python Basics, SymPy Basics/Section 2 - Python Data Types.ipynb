{
 "cells": [
  {
   "cell_type": "markdown",
   "id": "5bf00ae8",
   "metadata": {},
   "source": [
    "# Section 2 - Python Data Types\n",
    "\n",
    "Objectives:\n",
    "- Output\n",
    "- Common data types in basic Python"
   ]
  },
  {
   "cell_type": "markdown",
   "id": "2909fa65",
   "metadata": {},
   "source": [
    "## 2.1 Output\n",
    "\n",
    "The **print** command is your go-to for outputting any numbers or text to the screen. It can output one thing at a time, or multiple things at once, separated by commas:"
   ]
  },
  {
   "cell_type": "code",
   "execution_count": null,
   "id": "61fdf00a",
   "metadata": {},
   "outputs": [],
   "source": [
    "x = 12\n",
    "print(x)\n",
    "print('x squared is',x**2)\n",
    "x**2"
   ]
  },
  {
   "cell_type": "markdown",
   "id": "77ce78f5",
   "metadata": {},
   "source": [
    "Notice that last line output 144 to the screen without the \"print\" command. Whenever the last line of code performs a calculation and the result isn't stored anywhere, Python will just output it to the screen. I use this often with SymPy, as it allows expressions to be output in a nice formatting, whereas print does not. See this output, for example:"
   ]
  },
  {
   "cell_type": "code",
   "execution_count": null,
   "id": "2b653532",
   "metadata": {},
   "outputs": [],
   "source": [
    "import sympy as sp\n",
    "x = sp.symbols('x')\n",
    "print(x**2 / 3) # Outputs expression in plain text. Not as readable.\n",
    "x**2 / 3"
   ]
  },
  {
   "cell_type": "markdown",
   "id": "710a7d41",
   "metadata": {},
   "source": [
    "## 2.2 Numerical Data Types\n",
    "\n",
    "Unlinke C, Java, etc., you do NOT have to specify a data type when creating a numerical variable- Python will infer based on input, though you don't always have to rely on that.\n",
    "\n",
    "For more information on all data types mentioned in this notebook and much more, see https://docs.python.org/3/library/stdtypes.html\n",
    "\n",
    "### int (Integers) and float (Floating Point Numbers)\n",
    "\n",
    "- Basic numerical data types. They hold a single number.\n",
    "- int = integer. \n",
    "- float = decimal number. The largest it can hold is ~$1.8*10^{308}$. Anything larger will be stored as \"inf\"\n",
    "\n",
    "Integers can be written as floats by putting a decimal at the end."
   ]
  },
  {
   "cell_type": "code",
   "execution_count": null,
   "id": "f5d4f28d",
   "metadata": {},
   "outputs": [],
   "source": [
    "a = 12 # int\n",
    "b = 12. # float\n",
    "print(a, b)\n",
    "\n",
    "c = 1.82*10**308 # too large\n",
    "d = -1.82*10**308 # too negative\n",
    "print(c,d)"
   ]
  },
  {
   "cell_type": "markdown",
   "id": "ec52c9a4",
   "metadata": {},
   "source": [
    "To check a variable's data type (useful for SymPy), use the **type()** command:"
   ]
  },
  {
   "cell_type": "code",
   "execution_count": null,
   "id": "d942badb",
   "metadata": {},
   "outputs": [],
   "source": [
    "print(type(a))\n",
    "print(type(b))"
   ]
  },
  {
   "cell_type": "markdown",
   "id": "0c4a4cc5",
   "metadata": {},
   "source": [
    "#### Operations on int and float\n",
    "\n",
    "- **Assignment**: = (assign right-hand side to the variable named in the left-hand side)\n",
    "- **Addition**: +\n",
    "- **Subtraction**: -\n",
    "- **Negative**: Don't need to define a negative by \"0 - x\". Just put \"-x\"\n",
    "- **Multiplication**: *\n",
    "- **Standard Division**: /\n",
    "- **Floor Division**: // (returns the integer divisor, ignores remainder)\n",
    "- **Modulus**: %\n",
    "- **Power**: ** (two stars, NOT the caret symbol ^. This is different from most other languages!)\n",
    "- **Power**: pow(x,y) (same as the above, just written differently)\n",
    "- **Absolute Value**: abs(x)\n",
    "\n",
    "Arithmetic operations behave as we expect, for the most part.\n",
    "\n",
    "For example, int + int = int, while int + float = float. Division by 0 will stop your script and give you an error message.\n",
    "\n",
    "Some caveats:\n",
    "- int / int = float, even if the result is an integer.\n",
    "- inf - inf = inf (as opposed to undefined. See the below example)"
   ]
  },
  {
   "cell_type": "code",
   "execution_count": null,
   "id": "666aab38",
   "metadata": {},
   "outputs": [],
   "source": [
    "c-d # infinity - infinity = +infinity?"
   ]
  },
  {
   "cell_type": "markdown",
   "id": "6f780d33",
   "metadata": {},
   "source": [
    "#### The math package\n",
    "\n",
    "This provides a wider variety of operations to be applied to ints and floats than basic Python can do. Some examples:\n",
    "- **math.floor(x)** = x rounded down, returns an int\n",
    "- **math.ceil(x)** = x rounded up, returns an int\n",
    "- **math.round(x)** = x rounded to the nearest int\n",
    "- **math.round(x,n)** = x rounded to n decimal places, returns a float"
   ]
  },
  {
   "cell_type": "markdown",
   "id": "b5873ea2",
   "metadata": {},
   "source": [
    "### Booleans\n",
    "\n",
    "- Bit-sized data type. Can only hold a 0 (False) or 1 (True)\n",
    "- Output from logical tests\n",
    "\n",
    "#### Logical tests\n",
    "\n",
    "- **Equal to**: x == y\n",
    "- **Greater than**: x > y\n",
    "- **Greater than or equal to**: x >= y\n",
    "- **Less than**: x < y\n",
    "- **Less than or equal to**: x <= y\n",
    "- **Not Equal to**: x != y\n",
    "- **Is an integer**: x.is_integer() (returns True if x is an int, False if not)\n",
    "- And many more like the example above.\n",
    "\n",
    "#### Operations on booleans\n",
    "\n",
    "- **or**: x | y (bitwise OR of x and y)\n",
    "- **xor**: x ^ y (bitwise EXCLUSIVE OR of x and y)\n",
    "- **and**: x & y (bitwise AND of x and y)\n",
    "- **not**: ~x (bitwise NEGATION of x)\n",
    "\n",
    "Here, x and y can be booleans or logical tests that return a boolean.\n",
    "\n",
    "**Your turn**: Write a line of code that tests the statement \"$x \\geq 30$ or $x < 1$\". The variable $x$ has been defined for you, but you may change its value to test your code."
   ]
  },
  {
   "cell_type": "code",
   "execution_count": null,
   "id": "81d0d48a",
   "metadata": {},
   "outputs": [],
   "source": [
    "x = 21\n",
    "\n"
   ]
  },
  {
   "cell_type": "markdown",
   "id": "e6244a77",
   "metadata": {},
   "source": [
    "####  (Optional) Bitwise operations on binary numbers\n",
    "\n",
    "Booleans are just 1-digit binary numbers. OR, XOR, AND, and NOT all have natural extensions to binary numbers of the same length. In addition, we have\n",
    "- **Bitshift left by n places**: x << n\n",
    "- **Bitshift right by n places**: x << n\n",
    "\n",
    "All of these can be directly applied to integer numbers- under the hood, the computer sees them as binary numbers anyway.\n",
    "\n",
    "**(Optional) Your turn:** First, bitshift the number 255 to the right by 2 places. Then in the second cell, compute the bitwise AND of 50 and 53."
   ]
  },
  {
   "cell_type": "code",
   "execution_count": null,
   "id": "05ead024",
   "metadata": {},
   "outputs": [],
   "source": []
  },
  {
   "cell_type": "code",
   "execution_count": null,
   "id": "fce488e9",
   "metadata": {},
   "outputs": [],
   "source": []
  },
  {
   "cell_type": "markdown",
   "id": "977fecb2",
   "metadata": {},
   "source": [
    "## 2.3 Sequence Data Types\n",
    "\n",
    "Three basic sequence types: lists, tuples, and ranges. More advanced sequence types, such as text strings, are built on these types.\n",
    "\n",
    "Technical note: you'll see the word \"**iterable**\" in Python documentation and in some error messages. This is a category including all data types that can be iterated over (like in a for loop). Sequence data types are all iterables.\n",
    "\n",
    "- **list**: changeable sequence of data entries, allows for collections of different data types, though this can decrease speed of operations on the list.\n",
    "- **tuple**: immutable sequences of data, usually heterogeneous data\n",
    "- **range**: Looks like a list, but is also immutable. Lists integer numbers $A\\leq x < B$, or $A + n*i$ where $i$ is an integer step. Used for looping mostly, as it can only hold integers."
   ]
  },
  {
   "cell_type": "code",
   "execution_count": null,
   "id": "bfb7d25d",
   "metadata": {},
   "outputs": [],
   "source": [
    "listA = [1, 2, 3] # Lists are in SQUARE BRACKETS\n",
    "tupleA = (1, 2, 3) # Tuples are in PARENTHESIS\n",
    "rangeA = range(1,4) # all integers 1 <= x < 4"
   ]
  },
  {
   "cell_type": "markdown",
   "id": "371c185b",
   "metadata": {},
   "source": [
    "### Common Operations on Sequence Data Types\n",
    "\n",
    "Let **s** be a sequence data type. Then we can do...\n",
    "\n",
    "- **x in s** (Set inclusion, returns a Boolean)\n",
    "- **x not in s** (Set exclusion, returns a Boolean)\n",
    "- **s + t** (Concatenation of two sequence data types)\n",
    "- **s * n** (Self-concatenation n times. **n * s** will also work)\n",
    "- **len(s)** (Length of s)\n",
    "- **min(s)** (Minimum of s. Can fail if mixed data types are not comparable.)\n",
    "- **max(s)** (Maximum of s. Can fail if mixed data types are not comparable.)"
   ]
  },
  {
   "cell_type": "markdown",
   "id": "c2e7fbf8",
   "metadata": {},
   "source": [
    "### Indexing and Slicing\n",
    "\n",
    "You can retrieve an entry from such a data type by referring to the entry's *index* using square brackets. **In Python, the first entry is at index 0**.\n",
    "\n",
    "- **s[i]** gives the *i*th item\n",
    "- **s[i:j]** gives a new sequence (of the same data type) containing entries *i* through *j* (not including the *j*th entry). This is called *slicing*.\n",
    "- **s[i:j:k]** gives a slice containing entries *i*, *i+k*, *i+2k*, ..., through *j* (not including the *j*th entry even if *j=i+nk* for some *n*).\n",
    "- You can let *j = -n* if you want to tell Python to slice from *i* to *n* entries before the end.\n",
    "- **s[i:]** gives a slice containing all entries from *i* through the end of the sequence\n",
    "- **s[:i]** gives a slice containing all entries from the beginning of the sequence to *i* (excluding the *i*th entry)"
   ]
  },
  {
   "cell_type": "markdown",
   "id": "6588bde6",
   "metadata": {},
   "source": [
    "**Your Turn:** I've created a list X containing a handful of numbers. Write a line of code that returns the 4th entry (by Python counting) through the second to last entry (including that entry)."
   ]
  },
  {
   "cell_type": "code",
   "execution_count": null,
   "id": "719f5eb2",
   "metadata": {},
   "outputs": [],
   "source": [
    "X = [x for x in range(0,100)] # We'll talk about this line of code in a bit.\n",
    "\n"
   ]
  },
  {
   "cell_type": "markdown",
   "id": "a09ac6d2",
   "metadata": {},
   "source": [
    "### (Optional) Ranges\n",
    "\n",
    "Typically used as a quick number list for a loop. They are NOT changeable. Here is how you create one:"
   ]
  },
  {
   "cell_type": "code",
   "execution_count": null,
   "id": "92952f38",
   "metadata": {},
   "outputs": [],
   "source": [
    "# range(start, end, step_size)\n",
    "samplerange = range(0,10,2) # all even integers 0 <= x < 10."
   ]
  },
  {
   "cell_type": "markdown",
   "id": "d19dc724",
   "metadata": {},
   "source": [
    "### (Optional) Tuples\n",
    "\n",
    "Also not changeable. Can be different data types. Several ways to create one:"
   ]
  },
  {
   "cell_type": "code",
   "execution_count": null,
   "id": "83d8707c",
   "metadata": {},
   "outputs": [],
   "source": [
    "emptytuple = ()\n",
    "sampletuple1 = 1, 2, 3 # The first two are the same\n",
    "sampletuple1 = (1, 2, 3)\n",
    "singletontuple = 1, # shortcut for a singleton tuple\n",
    "singletontuple = (1,)\n",
    "sampletuple1 = tuple([1, 2, 3]) # use \"tuple()\" to make a tuple out of any iterable"
   ]
  },
  {
   "cell_type": "markdown",
   "id": "1411fb38",
   "metadata": {},
   "source": [
    "Not too much to say about these for now, except print statements will take a  tuple of text strings and variables and output them in order, with spaces inserted for you:"
   ]
  },
  {
   "cell_type": "code",
   "execution_count": null,
   "id": "e348aebc",
   "metadata": {},
   "outputs": [],
   "source": [
    "print('The tuple', sampletuple1, 'is pretty boring.')"
   ]
  },
  {
   "cell_type": "markdown",
   "id": "3be3cc4a",
   "metadata": {},
   "source": [
    "### Lists\n",
    "\n",
    "The most important sequence data type. They're changeable, sliceable, have more features than tuples or ranges, and there are many ways to create one:"
   ]
  },
  {
   "cell_type": "code",
   "execution_count": null,
   "id": "f6b4cd47",
   "metadata": {},
   "outputs": [],
   "source": [
    "emptylist = []\n",
    "\n",
    "listA = [1, 2, 3]\n",
    "listA = list((1, 2, 3)) # use \"list()\" to make a list out of any iterable"
   ]
  },
  {
   "cell_type": "markdown",
   "id": "b6ca210a",
   "metadata": {},
   "source": [
    "### List Comprehension\n",
    "\n",
    "The most important means of creating a list. The basic idea is: for each entry in some iterable data type (usually a range or another list), perform some operations to it, then save the result to the same index position in a new list. The syntax looks like:\n",
    "\n",
    "newlist = \\[ new_entry_depending_on_x **for** x **in** some_iterable\\]\n",
    "\n",
    "Many SymPy exercises the department has assigned require the use of list comprehension.\n",
    "\n",
    "**Your turn**: Use list comprehension to compute $x^2 - 4$ for all $x = \\{0, 1, 2, 3, 4\\}$. I've set up X as a range for you."
   ]
  },
  {
   "cell_type": "code",
   "execution_count": null,
   "id": "d9332d2f",
   "metadata": {},
   "outputs": [],
   "source": [
    "X = range(0,5)\n",
    "\n"
   ]
  },
  {
   "cell_type": "markdown",
   "id": "7592c960",
   "metadata": {},
   "source": [
    "### Features of Lists\n",
    "\n",
    "- **listname[i] = x** Replaces the entry at index *i* with *x*\n",
    "- **listname[i:j] = x** Replaces all entries from *i* to *j-1* with *x*\n",
    "- **listname.append(x)** Appends *x* to the end of the list as a new entry\n",
    "- **listname.extend(secondlist)** List concatenation. Appends secondlist's entries to the end of the list\n",
    "- **listname.remove(x)** removes the first entry from the list that is equal to x\n",
    "- **del listname[i:j]** deletes multiple entries from the list\n",
    "\n",
    "Some more neat features:\n",
    "- **sort(listname)** will sort the list according to the relation <, however it's defined for the data type. Caution: this modifies the original list, so make a copy if you need to keep the original ordering for something else. Will fail if mixed data types are not comparable, and depending on how far the sort got, will leave the list in a partially-sorted state.\n",
    "- **sum(listname)** will add up all terms of the list (in index order) according to the binary operation +, however it's defined for the data types involved. If the data types can't be added together, it will fail."
   ]
  },
  {
   "cell_type": "markdown",
   "id": "064ba5e3",
   "metadata": {},
   "source": [
    "### (Optional) Strings\n",
    "\n",
    "Text strings are usually written in Python with single OR double-quotation marks.\n",
    "\n",
    "Under the hood, text strings in Python are just lists of single characters, so everything we've talked about with lists can be done to strings as well:"
   ]
  },
  {
   "cell_type": "code",
   "execution_count": null,
   "id": "4809d3f8",
   "metadata": {},
   "outputs": [],
   "source": [
    "sometext = 'Here is some text. Aren\\'t I creative?'\n",
    "print(sometext[19:])\n",
    "print(sometext[0])\n",
    "print(sometext + ' Why yes I am.')"
   ]
  },
  {
   "cell_type": "markdown",
   "id": "08599c13",
   "metadata": {},
   "source": [
    "Notice that I had to put a \" \\\\ \" before the \" ' \". Ordinarily, the \" ' \" would have ended the string, but this tells Python to interpret that as a character in the string and keep going. This is called an *escape sequence*. Other useful escape sequences include:\n",
    "- **\\n** (newline character)\n",
    "- **\\t** (tab character)\n",
    "\n",
    "Be careful when counting, as an escape sequence counts as a single character."
   ]
  },
  {
   "cell_type": "markdown",
   "id": "197a2e27",
   "metadata": {},
   "source": [
    "## 2.4 Set Data Types\n",
    "\n",
    "A **set** is a mathematical set, equipped with all the set operations we know and love. As you'd expect, there are no repeating elements in a set. A **frozenset** is the same thing, but you cannot change a frozenset- you can only save changes to a copy of it.\n",
    "\n",
    "There are several ways to make a set:"
   ]
  },
  {
   "cell_type": "code",
   "execution_count": null,
   "id": "a2433ea8",
   "metadata": {},
   "outputs": [],
   "source": [
    "set1 = {1, 2, 3} # Notice the pattern: (tuple), [list], {set}\n",
    "set1 = set([1, 2, 2, 3]) # Use \"set\" to create a set from some other iterable\n",
    "set1 # Notice I repeated the 2 in the input, but it was eliminated during conversion."
   ]
  },
  {
   "cell_type": "markdown",
   "id": "f2df73e7",
   "metadata": {},
   "source": [
    "Similarities between a set type and a sequence data type:\n",
    "- They are also iterable, meaning you can use one for a for loop\n",
    "- **len**, **in**, and **not in** all work the same way\n",
    "\n",
    "Differences:\n",
    "- They are NOT indexable nor sliceable\n",
    "- In fact, there is no order to them whatsoever\n",
    "\n",
    "Sets do have a wide variety of features that sequence data types cannot use:\n",
    "- **A.isdisjoint(B)**: are A and B disjoint? Answers with a boolean\n",
    "- **A.issubset(B)** or **A <= B**: Is A a subset of B? Answers with a boolean\n",
    "- **A < B**: similar, but tests for proper subset\n",
    "- **A.issuperset(B)** or **A >= B**: Is A a superset of B?\n",
    "- **A > B**: similar, but tests for proper superset\n",
    "- **A.union(B,C)** or **A | B | C**: computes $A\\cup B\\cup C$\n",
    "- **A.intersection(B,C)** or **A & B & C**: computes $A\\cap B\\cap C$\n",
    "- **A.difference(B,C)** or **A - B - C**: computes $A\\backslash B\\backslash C$\n",
    "- **A.symmetric_difference(B)** or **A ^ B**: computes the symmetric difference between $A$ and $B$"
   ]
  },
  {
   "cell_type": "markdown",
   "id": "1b99aa23",
   "metadata": {},
   "source": [
    "## 2.5 (Optional) Mapping Data Types\n",
    "\n",
    "An unchangeable data type whose index is not the natural numbers, but almost any data type, most commonly text strings. The only basic data type in this category is the **dictionary**, or **dict**. The following all create the same dictionary:"
   ]
  },
  {
   "cell_type": "code",
   "execution_count": null,
   "id": "69a670f1",
   "metadata": {},
   "outputs": [],
   "source": [
    "a = dict(one=1, two=2, three=3)\n",
    "\n",
    "b = {'one': 1, 'two': 2, 'three': 3}\n",
    "\n",
    "c = dict(zip(['one', 'two', 'three'], [1, 2, 3]))\n",
    "\n",
    "d = dict([('two', 2), ('one', 1), ('three', 3)])\n",
    "\n",
    "e = dict({'three': 3, 'one': 1, 'two': 2})\n",
    "\n",
    "f = dict({'one': 1, 'three': 3}, two=2)"
   ]
  },
  {
   "cell_type": "markdown",
   "id": "202470ba",
   "metadata": {},
   "source": [
    "Like an actual dictionary, you look up the entry using its *keyword*:"
   ]
  },
  {
   "cell_type": "code",
   "execution_count": null,
   "id": "20af5573",
   "metadata": {},
   "outputs": [],
   "source": [
    "a['one'] # Note we use square brackets here"
   ]
  },
  {
   "cell_type": "markdown",
   "id": "cf64ed74",
   "metadata": {},
   "source": [
    "If you are solving a system of multiple equations in SymPy, the output will be a dictionary whose keywords are the variables involved."
   ]
  },
  {
   "cell_type": "markdown",
   "id": "92b56817",
   "metadata": {},
   "source": [
    "## 2.6 Troubleshooting\n",
    "\n",
    "In general, an error message has two parts: a *traceback*, or an attempt to show you exactly where the error occurred, and the *TypeError* message, which often gives a helpful description of what happened. The traceback will often go through layers of underlying code (for example, if the error occurred when using SymPy's integrate function, often it will show you the underlying code for that function), which may or may not be helpful, so if you get a long traceback, look for the part that shows YOUR code.\n",
    "\n",
    "Throughout the workshop, I'll conclude a notebook by pointing out common mistakes related to the notebook's topics.\n",
    "\n",
    "1) Data type mismatch between operations"
   ]
  },
  {
   "cell_type": "code",
   "execution_count": null,
   "id": "03f77ce1",
   "metadata": {},
   "outputs": [],
   "source": [
    "27 > [1] # Can't compare an integer to a list!"
   ]
  },
  {
   "cell_type": "markdown",
   "id": "1476dfb1",
   "metadata": {},
   "source": [
    "2) Accessing a list/tuple/range entry that doesn't exist. (Don't forget that Python indexing begins at 0!)"
   ]
  },
  {
   "cell_type": "code",
   "execution_count": null,
   "id": "bdb6baa9",
   "metadata": {},
   "outputs": [],
   "source": [
    "list1 = ['A', 'B', 'C'] # Index only goes from 0 to 2, not 1 to 3\n",
    "list1[3]"
   ]
  },
  {
   "cell_type": "code",
   "execution_count": null,
   "id": "bd16841c",
   "metadata": {},
   "outputs": [],
   "source": []
  }
 ],
 "metadata": {
  "kernelspec": {
   "display_name": "Python 3 (ipykernel)",
   "language": "python",
   "name": "python3"
  },
  "language_info": {
   "codemirror_mode": {
    "name": "ipython",
    "version": 3
   },
   "file_extension": ".py",
   "mimetype": "text/x-python",
   "name": "python",
   "nbconvert_exporter": "python",
   "pygments_lexer": "ipython3",
   "version": "3.9.18"
  }
 },
 "nbformat": 4,
 "nbformat_minor": 5
}
