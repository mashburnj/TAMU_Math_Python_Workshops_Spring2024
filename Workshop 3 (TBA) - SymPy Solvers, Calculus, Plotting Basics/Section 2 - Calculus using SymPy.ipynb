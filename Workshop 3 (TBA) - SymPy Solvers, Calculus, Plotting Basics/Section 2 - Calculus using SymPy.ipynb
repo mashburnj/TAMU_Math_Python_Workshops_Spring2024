{
 "cells": [
  {
   "cell_type": "markdown",
   "id": "5bf00ae8",
   "metadata": {},
   "source": [
    "# Section 2 - Calculus using SymPy\n",
    "\n",
    "Objectives:\n",
    "- Limits\n",
    "- Derivatives\n",
    "- Integrals\n",
    "- Series\n",
    "\n",
    "Start by running the import statement below (this must be done every time you start up Jupyter Notebook or Google Colab)."
   ]
  },
  {
   "cell_type": "code",
   "execution_count": 1,
   "id": "e1fee498",
   "metadata": {},
   "outputs": [],
   "source": [
    "import sympy as sp"
   ]
  },
  {
   "cell_type": "markdown",
   "id": "7592c960",
   "metadata": {},
   "source": [
    "## 1.1 Limits\n",
    "\n",
    "The syntax is\n",
    "\n",
    "**sp.limit(expression, x, a)** (limit of expression as $x$ approaches $a$)\n",
    "\n",
    "Recall that **sp.oo** denotes positive infinity and can be used here, often for limits of sequences.\n",
    "\n",
    "**Your turn:** Compute $\\lim_{x\\rightarrow 0} \\frac{\\sin{x}}{x}$ using SymPy. I defined the variable $x$ for you."
   ]
  },
  {
   "cell_type": "code",
   "execution_count": 32,
   "id": "4809d3f8",
   "metadata": {},
   "outputs": [],
   "source": [
    "x = sp.symbols('x')\n",
    "\n"
   ]
  },
  {
   "cell_type": "markdown",
   "id": "7262126d",
   "metadata": {},
   "source": [
    "### One-sided Limits?\n",
    "\n",
    "Yes, SymPy can do these... mostly. The syntax is:\n",
    "\n",
    "**sp.limit(expression, x, a, '-')** (limit of expression as $x$ approaches $a$ from the left)\n",
    "\n",
    "**sp.limit(expression, x, a, '+')** (limit of expression as $x$ approaches $a$ from the right)\n",
    "\n",
    "I've heard some users have gotten errors or incorrect answers, at least as of 2018 (see https://stackoverflow.com/questions/53175387/sympy-left-sided-limit-of-sign-function).\n",
    "\n",
    "I tested it out and haven't found any issues as of the May 2023 SymPy update. It even properly computes the limit the StackOverflow user in the thread linked above was having trouble with before:"
   ]
  },
  {
   "cell_type": "code",
   "execution_count": 18,
   "id": "a7df83da",
   "metadata": {},
   "outputs": [
    {
     "data": {
      "text/latex": [
       "$\\displaystyle -1$"
      ],
      "text/plain": [
       "-1"
      ]
     },
     "execution_count": 18,
     "metadata": {},
     "output_type": "execute_result"
    }
   ],
   "source": [
    "x = sp.symbols('x')\n",
    "\n",
    "f = sp.sign(sp.cos(sp.pi/x))\n",
    "sp.limit(f, x, 2, '-')"
   ]
  },
  {
   "cell_type": "markdown",
   "id": "bae88f55",
   "metadata": {},
   "source": [
    "Apparently, **sp.Abs** and **sp.sign** are the biggest hurdles for the one-sided limit calculator to jump over, so proceed with caution."
   ]
  },
  {
   "cell_type": "markdown",
   "id": "48de0068",
   "metadata": {},
   "source": [
    "## 2.2 Derivatives\n",
    "\n",
    "The syntax is\n",
    "\n",
    "**sp.diff(function)** (if single-variable)\n",
    "\n",
    "**sp.diff(function, variable)** (if single or multivariable)\n",
    "\n",
    "**sp.diff(function, variable, numberOfTimes)** (to take second or higher order derivatives)\n",
    "\n",
    "**sp.diff(function, var1, var2, var3)** (and so on, to take mixed higher order partial derivatives)\n",
    "\n",
    "It's a good idea to store the result, like\n",
    "\n",
    "**fprime = sp.diff(f,x)**\n",
    "\n",
    "or something like that.\n",
    "\n",
    "**Your turn:** Use **sp.diff** and **sp.subs** to find the equation of the line tangent to $f(x) = 9 - x^2$ at $x=3$."
   ]
  },
  {
   "cell_type": "code",
   "execution_count": null,
   "id": "9710b992",
   "metadata": {},
   "outputs": [],
   "source": [
    "x = sp.symbols('x')\n",
    "\n"
   ]
  },
  {
   "cell_type": "markdown",
   "id": "08599c13",
   "metadata": {},
   "source": [
    "**Additional practice:** Let's combine some more SymPy tools in a single problem. Use **sp.diff** and **sp.solve** (or **sp.nsolve** if solve takes too long) to find the absolute extrema of the function $f(x) = 2x^3 + x^2 - x$ on the interval $[0,1]$. Hints:\n",
    "- Solve gives you a LIST if there is more than one solution, so you'll need to use **listname[i]** to refer to specific solutions. You can also add the assumption that $x$ is nonnegative to filter out negative solutions.\n",
    "- Use **.evalf()** at the end of an expression to force SymPy to give a decimal evaluation of it."
   ]
  },
  {
   "cell_type": "code",
   "execution_count": 29,
   "id": "27682ea3",
   "metadata": {},
   "outputs": [],
   "source": [
    "x = sp.symbols('x')\n",
    "\n"
   ]
  },
  {
   "cell_type": "markdown",
   "id": "dd77e4bb",
   "metadata": {},
   "source": [
    "## 2.3 Integration\n",
    "\n",
    "### Indefinite Integrals\n",
    "\n",
    "Syntax for indefinite integrals is very similar to differentiation:\n",
    "\n",
    "**sp.integrate(function)** (single variable)\n",
    "\n",
    "**sp.integrate(function, variable)** (multi variable)\n",
    "\n",
    "**sp.integrate(function, var1, var2, var3)** (and so on, for multiple integration)\n",
    "\n",
    "Note: \"+C\" not included.\n",
    "\n",
    "### Definite Integrals\n",
    "\n",
    "Just need to replace the variable input argument with a more detailed tuple: **(variable, lowerbd, upperbd)**. So the above become:\n",
    "\n",
    "**sp.integrate(function, (var, left, right))**\n",
    "\n",
    "**sp.integrate(function, (var1, left1, right1), (var2, left2, right2))** (and so on, for multiple integration)\n",
    "\n",
    "**Your turn:** Compute some Laplace transforms. (I'll let you choose the functions!) Reminder: the formula is: $\\mathcal{L}\\{f\\}(s) = \\int_0^\\infty f(t)e^{-st}dt$."
   ]
  },
  {
   "cell_type": "code",
   "execution_count": null,
   "id": "e535d3d3",
   "metadata": {},
   "outputs": [],
   "source": [
    "x = sp.symbols('x')\n",
    "t = sp.symbols('t', nonnegative = True)\n",
    "\n",
    "f = # replace this comment with whatever function you want to try.\n",
    "\n"
   ]
  },
  {
   "cell_type": "markdown",
   "id": "36213d60",
   "metadata": {},
   "source": [
    "## 2.4 Series\n",
    "\n",
    "There are a few handy tools for dealing with series:\n",
    "\n",
    "First, **sp.series(function, variable, center, numterms)** returns the power series expansion of a function (expanded w.r.t. the specified variable) up to a specified number of terms (the rest given in O-notation).\n",
    "\n",
    "\n",
    "Next, **sp.summation(expression, (n, start, end))** returns the exact sum of a series over a given expression from a starting term to the ending term (or infinity if **sp.oo** is used).\n",
    "\n",
    "For more info and additional tools, see https://docs.sympy.org/latest/modules/series/index.html\n",
    "\n",
    "**Your turn:** Experiment with expanding functions into power series or collapsing series into functions or (hopefully finite) numbers."
   ]
  },
  {
   "cell_type": "code",
   "execution_count": null,
   "id": "c6b2c182",
   "metadata": {},
   "outputs": [],
   "source": [
    "x = sp.symbols('x')\n",
    "n = sp.symbols('n', integer = True)\n",
    "\n"
   ]
  },
  {
   "cell_type": "markdown",
   "id": "6dbbbb0a",
   "metadata": {},
   "source": [
    "## Side Note: Vector Calculus\n",
    "\n",
    "This is a whole separate module within SymPy (**sympy.vector**), and would easily take an afternoon to go through. If you are interested, see https://docs.sympy.org/latest/modules/vector/index.html#vector\n",
    "\n",
    "In the future, I plan to write up a notebook on the topic and share it with everyone!"
   ]
  },
  {
   "cell_type": "markdown",
   "id": "f2df73e7",
   "metadata": {},
   "source": [
    "## 2.5 Troubleshooting\n",
    "\n",
    "As with anything else SymPy, sometimes the simplest explanation for an issue is the best. Look for typos (especially misplaced parenthesis or brackets), commands not being called properly, etc. The ugliest-looking error messages tend to come from those types of mistakes!\n",
    "\n",
    "1) \"ValueError: Invalid limits given:\"\n",
    "\n",
    "Most likely, a pair of parenthesis were left out. Integrating $x^2$ from 1 to 2 should be typed in as"
   ]
  },
  {
   "cell_type": "code",
   "execution_count": 34,
   "id": "461a8f5b",
   "metadata": {},
   "outputs": [
    {
     "data": {
      "text/latex": [
       "$\\displaystyle \\frac{7}{3}$"
      ],
      "text/plain": [
       "7/3"
      ]
     },
     "execution_count": 34,
     "metadata": {},
     "output_type": "execute_result"
    }
   ],
   "source": [
    "sp.integrate(x**2, (x, 1, 2))"
   ]
  },
  {
   "cell_type": "markdown",
   "id": "4452a5a8",
   "metadata": {},
   "source": [
    "and not"
   ]
  },
  {
   "cell_type": "code",
   "execution_count": 35,
   "id": "5c64e1a7",
   "metadata": {},
   "outputs": [
    {
     "ename": "ValueError",
     "evalue": "Invalid limits given: (x, 1, 2)",
     "output_type": "error",
     "traceback": [
      "\u001b[1;31m---------------------------------------------------------------------------\u001b[0m",
      "\u001b[1;31mValueError\u001b[0m                                Traceback (most recent call last)",
      "Cell \u001b[1;32mIn[35], line 1\u001b[0m\n\u001b[1;32m----> 1\u001b[0m \u001b[43msp\u001b[49m\u001b[38;5;241;43m.\u001b[39;49m\u001b[43mintegrate\u001b[49m\u001b[43m(\u001b[49m\u001b[43mx\u001b[49m\u001b[38;5;241;43m*\u001b[39;49m\u001b[38;5;241;43m*\u001b[39;49m\u001b[38;5;241;43m2\u001b[39;49m\u001b[43m,\u001b[49m\u001b[43m \u001b[49m\u001b[43mx\u001b[49m\u001b[43m,\u001b[49m\u001b[43m \u001b[49m\u001b[38;5;241;43m1\u001b[39;49m\u001b[43m,\u001b[49m\u001b[43m \u001b[49m\u001b[38;5;241;43m2\u001b[39;49m\u001b[43m)\u001b[49m\n",
      "File \u001b[1;32m~\\anaconda3\\lib\\site-packages\\sympy\\integrals\\integrals.py:1564\u001b[0m, in \u001b[0;36mintegrate\u001b[1;34m(meijerg, conds, risch, heurisch, manual, *args, **kwargs)\u001b[0m\n\u001b[0;32m   1400\u001b[0m \u001b[38;5;250m\u001b[39m\u001b[38;5;124;03m\"\"\"integrate(f, var, ...)\u001b[39;00m\n\u001b[0;32m   1401\u001b[0m \n\u001b[0;32m   1402\u001b[0m \u001b[38;5;124;03m.. deprecated:: 1.6\u001b[39;00m\n\u001b[1;32m   (...)\u001b[0m\n\u001b[0;32m   1554\u001b[0m \n\u001b[0;32m   1555\u001b[0m \u001b[38;5;124;03m\"\"\"\u001b[39;00m\n\u001b[0;32m   1556\u001b[0m doit_flags \u001b[38;5;241m=\u001b[39m {\n\u001b[0;32m   1557\u001b[0m     \u001b[38;5;124m'\u001b[39m\u001b[38;5;124mdeep\u001b[39m\u001b[38;5;124m'\u001b[39m: \u001b[38;5;28;01mFalse\u001b[39;00m,\n\u001b[0;32m   1558\u001b[0m     \u001b[38;5;124m'\u001b[39m\u001b[38;5;124mmeijerg\u001b[39m\u001b[38;5;124m'\u001b[39m: meijerg,\n\u001b[1;32m   (...)\u001b[0m\n\u001b[0;32m   1562\u001b[0m     \u001b[38;5;124m'\u001b[39m\u001b[38;5;124mmanual\u001b[39m\u001b[38;5;124m'\u001b[39m: manual\n\u001b[0;32m   1563\u001b[0m     }\n\u001b[1;32m-> 1564\u001b[0m integral \u001b[38;5;241m=\u001b[39m Integral(\u001b[38;5;241m*\u001b[39margs, \u001b[38;5;241m*\u001b[39m\u001b[38;5;241m*\u001b[39mkwargs)\n\u001b[0;32m   1566\u001b[0m \u001b[38;5;28;01mif\u001b[39;00m \u001b[38;5;28misinstance\u001b[39m(integral, Integral):\n\u001b[0;32m   1567\u001b[0m     \u001b[38;5;28;01mreturn\u001b[39;00m integral\u001b[38;5;241m.\u001b[39mdoit(\u001b[38;5;241m*\u001b[39m\u001b[38;5;241m*\u001b[39mdoit_flags)\n",
      "File \u001b[1;32m~\\anaconda3\\lib\\site-packages\\sympy\\integrals\\integrals.py:96\u001b[0m, in \u001b[0;36mIntegral.__new__\u001b[1;34m(cls, function, *symbols, **assumptions)\u001b[0m\n\u001b[0;32m     86\u001b[0m \u001b[38;5;28;01mif\u001b[39;00m \u001b[38;5;28misinstance\u001b[39m(function, Poly):\n\u001b[0;32m     87\u001b[0m     sympy_deprecation_warning(\n\u001b[0;32m     88\u001b[0m \u001b[38;5;250m        \u001b[39m\u001b[38;5;124;03m\"\"\"\u001b[39;00m\n\u001b[0;32m     89\u001b[0m \u001b[38;5;124;03m        integrate(Poly) and Integral(Poly) are deprecated. Instead,\u001b[39;00m\n\u001b[1;32m   (...)\u001b[0m\n\u001b[0;32m     93\u001b[0m         deprecated_since_version\u001b[38;5;241m=\u001b[39m\u001b[38;5;124m\"\u001b[39m\u001b[38;5;124m1.6\u001b[39m\u001b[38;5;124m\"\u001b[39m,\n\u001b[0;32m     94\u001b[0m         active_deprecations_target\u001b[38;5;241m=\u001b[39m\u001b[38;5;124m\"\u001b[39m\u001b[38;5;124mdeprecated-integrate-poly\u001b[39m\u001b[38;5;124m\"\u001b[39m)\n\u001b[1;32m---> 96\u001b[0m obj \u001b[38;5;241m=\u001b[39m AddWithLimits\u001b[38;5;241m.\u001b[39m\u001b[38;5;21m__new__\u001b[39m(\u001b[38;5;28mcls\u001b[39m, function, \u001b[38;5;241m*\u001b[39msymbols, \u001b[38;5;241m*\u001b[39m\u001b[38;5;241m*\u001b[39massumptions)\n\u001b[0;32m     97\u001b[0m \u001b[38;5;28;01mreturn\u001b[39;00m obj\n",
      "File \u001b[1;32m~\\anaconda3\\lib\\site-packages\\sympy\\concrete\\expr_with_limits.py:547\u001b[0m, in \u001b[0;36mAddWithLimits.__new__\u001b[1;34m(cls, function, *symbols, **assumptions)\u001b[0m\n\u001b[0;32m    545\u001b[0m \u001b[38;5;28;01mdef\u001b[39;00m \u001b[38;5;21m__new__\u001b[39m(\u001b[38;5;28mcls\u001b[39m, function, \u001b[38;5;241m*\u001b[39msymbols, \u001b[38;5;241m*\u001b[39m\u001b[38;5;241m*\u001b[39massumptions):\n\u001b[0;32m    546\u001b[0m     \u001b[38;5;28;01mfrom\u001b[39;00m \u001b[38;5;21;01msympy\u001b[39;00m\u001b[38;5;21;01m.\u001b[39;00m\u001b[38;5;21;01mconcrete\u001b[39;00m\u001b[38;5;21;01m.\u001b[39;00m\u001b[38;5;21;01msummations\u001b[39;00m \u001b[38;5;28;01mimport\u001b[39;00m Sum\n\u001b[1;32m--> 547\u001b[0m     pre \u001b[38;5;241m=\u001b[39m _common_new(\u001b[38;5;28mcls\u001b[39m, function, \u001b[38;5;241m*\u001b[39msymbols,\n\u001b[0;32m    548\u001b[0m         discrete\u001b[38;5;241m=\u001b[39m\u001b[38;5;28missubclass\u001b[39m(\u001b[38;5;28mcls\u001b[39m, Sum), \u001b[38;5;241m*\u001b[39m\u001b[38;5;241m*\u001b[39massumptions)\n\u001b[0;32m    549\u001b[0m     \u001b[38;5;28;01mif\u001b[39;00m \u001b[38;5;28misinstance\u001b[39m(pre, \u001b[38;5;28mtuple\u001b[39m):\n\u001b[0;32m    550\u001b[0m         function, limits, orientation \u001b[38;5;241m=\u001b[39m pre\n",
      "File \u001b[1;32m~\\anaconda3\\lib\\site-packages\\sympy\\concrete\\expr_with_limits.py:57\u001b[0m, in \u001b[0;36m_common_new\u001b[1;34m(cls, function, discrete, *symbols, **assumptions)\u001b[0m\n\u001b[0;32m     54\u001b[0m     \u001b[38;5;28;01mreturn\u001b[39;00m S\u001b[38;5;241m.\u001b[39mNaN\n\u001b[0;32m     56\u001b[0m \u001b[38;5;28;01mif\u001b[39;00m symbols:\n\u001b[1;32m---> 57\u001b[0m     limits, orientation \u001b[38;5;241m=\u001b[39m \u001b[43m_process_limits\u001b[49m\u001b[43m(\u001b[49m\u001b[38;5;241;43m*\u001b[39;49m\u001b[43msymbols\u001b[49m\u001b[43m,\u001b[49m\u001b[43m \u001b[49m\u001b[43mdiscrete\u001b[49m\u001b[38;5;241;43m=\u001b[39;49m\u001b[43mdiscrete\u001b[49m\u001b[43m)\u001b[49m\n\u001b[0;32m     58\u001b[0m     \u001b[38;5;28;01mfor\u001b[39;00m i, li \u001b[38;5;129;01min\u001b[39;00m \u001b[38;5;28menumerate\u001b[39m(limits):\n\u001b[0;32m     59\u001b[0m         \u001b[38;5;28;01mif\u001b[39;00m \u001b[38;5;28mlen\u001b[39m(li) \u001b[38;5;241m==\u001b[39m \u001b[38;5;241m4\u001b[39m:\n",
      "File \u001b[1;32m~\\anaconda3\\lib\\site-packages\\sympy\\concrete\\expr_with_limits.py:194\u001b[0m, in \u001b[0;36m_process_limits\u001b[1;34m(discrete, *symbols)\u001b[0m\n\u001b[0;32m    191\u001b[0m                     limits\u001b[38;5;241m.\u001b[39mappend(Tuple(newsymbol, V[\u001b[38;5;241m1\u001b[39m]))\n\u001b[0;32m    192\u001b[0m                     \u001b[38;5;28;01mcontinue\u001b[39;00m\n\u001b[1;32m--> 194\u001b[0m     \u001b[38;5;28;01mraise\u001b[39;00m \u001b[38;5;167;01mValueError\u001b[39;00m(\u001b[38;5;124m'\u001b[39m\u001b[38;5;124mInvalid limits given: \u001b[39m\u001b[38;5;132;01m%s\u001b[39;00m\u001b[38;5;124m'\u001b[39m \u001b[38;5;241m%\u001b[39m \u001b[38;5;28mstr\u001b[39m(symbols))\n\u001b[0;32m    196\u001b[0m \u001b[38;5;28;01mreturn\u001b[39;00m limits, orientation\n",
      "\u001b[1;31mValueError\u001b[0m: Invalid limits given: (x, 1, 2)"
     ]
    }
   ],
   "source": [
    "sp.integrate(x**2, x, 1, 2)"
   ]
  },
  {
   "cell_type": "code",
   "execution_count": null,
   "id": "40ecd544",
   "metadata": {},
   "outputs": [],
   "source": []
  }
 ],
 "metadata": {
  "kernelspec": {
   "display_name": "Python 3 (ipykernel)",
   "language": "python",
   "name": "python3"
  },
  "language_info": {
   "codemirror_mode": {
    "name": "ipython",
    "version": 3
   },
   "file_extension": ".py",
   "mimetype": "text/x-python",
   "name": "python",
   "nbconvert_exporter": "python",
   "pygments_lexer": "ipython3",
   "version": "3.9.18"
  }
 },
 "nbformat": 4,
 "nbformat_minor": 5
}
